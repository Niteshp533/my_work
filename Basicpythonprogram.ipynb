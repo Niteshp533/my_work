{
 "cells": [
  {
   "cell_type": "raw",
   "id": "7991057f",
   "metadata": {},
   "source": [
    "#Program to convert Fahrenheit to Celsius"
   ]
  },
  {
   "cell_type": "code",
   "execution_count": 5,
   "id": "f39ef743",
   "metadata": {},
   "outputs": [
    {
     "name": "stdout",
     "output_type": "stream",
     "text": [
      "Enter the temp. :99\n",
      "Temp. in Celsius is : 37.22222222222222\n"
     ]
    }
   ],
   "source": [
    "F= int(input(\"Enter the temp. :\"))\n",
    "C = (F - 32)*(5/9)\n",
    "print(\"Temp. in Celsius is :\",C)"
   ]
  },
  {
   "cell_type": "code",
   "execution_count": 6,
   "id": "3c931d24",
   "metadata": {},
   "outputs": [],
   "source": [
    "##Program to swap the value of two variable using temp variable."
   ]
  },
  {
   "cell_type": "code",
   "execution_count": 7,
   "id": "8533b74a",
   "metadata": {},
   "outputs": [
    {
     "name": "stdout",
     "output_type": "stream",
     "text": [
      "345 76\n",
      "76 345\n"
     ]
    }
   ],
   "source": [
    "var1,var2=345,76\n",
    "temp=0\n",
    "print(var1,var2)\n",
    "temp=var1\n",
    "var1=var2\n",
    "var2=temp\n",
    "print(var1,var2)"
   ]
  },
  {
   "cell_type": "code",
   "execution_count": 8,
   "id": "0838ceae",
   "metadata": {},
   "outputs": [],
   "source": [
    "##Program to find out distance between two points."
   ]
  },
  {
   "cell_type": "code",
   "execution_count": 1,
   "id": "0bb58c1b",
   "metadata": {},
   "outputs": [
    {
     "name": "stdout",
     "output_type": "stream",
     "text": [
      "Enter the value of coordinate of x1:2\n",
      "Enter the value of coordinate of x2:4\n",
      "Enter the value of coordinate of y1:2\n",
      "Enter the value of coordinate of y2:4\n",
      "The distance between two points is  2.8284271247461903\n"
     ]
    }
   ],
   "source": [
    "x1=int(input('Enter the value of coordinate of x1:'))\n",
    "x2=int(input('Enter the value of coordinate of x2:'))\n",
    "y1=int(input('Enter the value of coordinate of y1:'))\n",
    "y2=int(input('Enter the value of coordinate of y2:'))\n",
    "dist=((((x2 - x1)**2 + (y2 - y1) **2))**(0.5))\n",
    "print('The distance between two points is ',dist)"
   ]
  },
  {
   "cell_type": "code",
   "execution_count": 2,
   "id": "7af4df00",
   "metadata": {},
   "outputs": [],
   "source": [
    "##Program to perform the following operation in tuple."
   ]
  },
  {
   "cell_type": "code",
   "execution_count": 4,
   "id": "b9406922",
   "metadata": {},
   "outputs": [
    {
     "name": "stdout",
     "output_type": "stream",
     "text": [
      "673\n"
     ]
    }
   ],
   "source": [
    "#Maxima\n",
    "t=(12, 342, 673, 234)\n",
    "print(max(t))"
   ]
  },
  {
   "cell_type": "code",
   "execution_count": 5,
   "id": "cd621d00",
   "metadata": {},
   "outputs": [
    {
     "name": "stdout",
     "output_type": "stream",
     "text": [
      "12\n"
     ]
    }
   ],
   "source": [
    "#Minima\n",
    "t=(12, 342, 673, 234)\n",
    "print(min(t))"
   ]
  },
  {
   "cell_type": "code",
   "execution_count": 10,
   "id": "6bae875e",
   "metadata": {},
   "outputs": [
    {
     "name": "stdout",
     "output_type": "stream",
     "text": [
      "428\n"
     ]
    }
   ],
   "source": [
    "#Sum\n",
    "t1=(12, 13, 67, 98)\n",
    "t2=(167, 7, 56, 8)\n",
    "print(sum(t1 + t2))"
   ]
  },
  {
   "cell_type": "code",
   "execution_count": 11,
   "id": "e1c1b2d6",
   "metadata": {},
   "outputs": [
    {
     "name": "stdout",
     "output_type": "stream",
     "text": [
      "(342, 673, 234)\n"
     ]
    }
   ],
   "source": [
    "#Slicing\n",
    "t=(12, 342, 673, 234)\n",
    "print(t[1:4])"
   ]
  },
  {
   "cell_type": "code",
   "execution_count": 12,
   "id": "04b39e31",
   "metadata": {},
   "outputs": [
    {
     "name": "stdout",
     "output_type": "stream",
     "text": [
      "[2, 32, 73, 34]\n"
     ]
    }
   ],
   "source": [
    "#Obtaining a list from tuple \n",
    "t=(2, 32, 73, 34)\n",
    "print(list(t))"
   ]
  },
  {
   "cell_type": "code",
   "execution_count": 14,
   "id": "b098ec6e",
   "metadata": {},
   "outputs": [
    {
     "name": "stdout",
     "output_type": "stream",
     "text": [
      "False\n",
      "False\n",
      "True\n"
     ]
    }
   ],
   "source": [
    "#comparing two tuples\n",
    "t1=(2, 85, 23, 24)\n",
    "t2=(121, 2, 31, 4)\n",
    "print(t1==t2)\n",
    "print(t1>t2)\n",
    "print(t1<t2)"
   ]
  },
  {
   "cell_type": "code",
   "execution_count": 17,
   "id": "dd4c09b2",
   "metadata": {},
   "outputs": [
    {
     "name": "stdout",
     "output_type": "stream",
     "text": [
      "(2, 32, 73, 34)\n",
      "('History', ' Student', 'Parul', 'Ram')\n"
     ]
    }
   ],
   "source": [
    "#Printing two tuple of different data type\n",
    "Numeric_tuple=(2, 32, 73, 34)\n",
    "Alphabatic_tuple=('History',' Student', 'Parul', 'Ram')\n",
    "print(Numeric_tuple)\n",
    "print(Alphabatic_tuple)"
   ]
  },
  {
   "cell_type": "code",
   "execution_count": 10,
   "id": "9d918635",
   "metadata": {},
   "outputs": [],
   "source": [
    "##find out sq.root of two numbers"
   ]
  },
  {
   "cell_type": "code",
   "execution_count": null,
   "id": "ad6f9c73",
   "metadata": {},
   "outputs": [],
   "source": [
    "num= input('Enter a number')\n",
    "print('square root of num',num**0.5)"
   ]
  },
  {
   "cell_type": "code",
   "execution_count": 21,
   "id": "ae55b7a2",
   "metadata": {},
   "outputs": [
    {
     "name": "stdout",
     "output_type": "stream",
     "text": [
      "Enter a no. :4\n",
      "Factorial of number 24\n"
     ]
    }
   ],
   "source": [
    "## find out factorial of a number.\n",
    "n= int(input(\"Enter a no. :\"))\n",
    "fact=1\n",
    "for i in range(1,n+1):\n",
    "    fact*=i\n",
    "print('Factorial of number',fact)"
   ]
  },
  {
   "cell_type": "code",
   "execution_count": 22,
   "id": "4116e819",
   "metadata": {},
   "outputs": [],
   "source": [
    "#find out sum of digis of number."
   ]
  },
  {
   "cell_type": "code",
   "execution_count": 3,
   "id": "0e4cacc2",
   "metadata": {},
   "outputs": [
    {
     "name": "stdout",
     "output_type": "stream",
     "text": [
      "Enter a number :123\n",
      "6\n"
     ]
    }
   ],
   "source": [
    "num=int(input('Enter a number :'))\n",
    "sum=0\n",
    "while(num != 0):\n",
    "    sum=sum + int(num%10)\n",
    "    num=num/10\n",
    "print(sum)"
   ]
  },
  {
   "cell_type": "code",
   "execution_count": 31,
   "id": "48d207f4",
   "metadata": {},
   "outputs": [],
   "source": [
    "##Reverse to  a given number."
   ]
  },
  {
   "cell_type": "code",
   "execution_count": 1,
   "id": "47d20ad2",
   "metadata": {},
   "outputs": [
    {
     "name": "stdout",
     "output_type": "stream",
     "text": [
      "Enter a number :123\n",
      "Reverse series of number : 321\n"
     ]
    }
   ],
   "source": [
    "Number=(input('Enter a number :'))\n",
    "reverse_num= Number[::-1]\n",
    "print('Reverse series of number :',reverse_num)\n"
   ]
  },
  {
   "cell_type": "code",
   "execution_count": 2,
   "id": "0db33217",
   "metadata": {},
   "outputs": [],
   "source": [
    "##check the given no. is palindrome or not."
   ]
  },
  {
   "cell_type": "code",
   "execution_count": 1,
   "id": "ad64ce0f",
   "metadata": {},
   "outputs": [
    {
     "name": "stdout",
     "output_type": "stream",
     "text": [
      "Palindrome\n"
     ]
    }
   ],
   "source": [
    "r=\"ParaP\"\n",
    "if r==r[::-1]:\n",
    "    print('Palindrome')\n",
    "else:\n",
    "    print('Not polindrome')"
   ]
  },
  {
   "cell_type": "code",
   "execution_count": 4,
   "id": "0d7ed7d7",
   "metadata": {},
   "outputs": [],
   "source": [
    "##Fibonacci series"
   ]
  },
  {
   "cell_type": "code",
   "execution_count": null,
   "id": "ef419301",
   "metadata": {},
   "outputs": [
    {
     "name": "stdout",
     "output_type": "stream",
     "text": [
      "Enter a number :123321\n"
     ]
    }
   ],
   "source": [
    "Fibonacci=int(input('Enter a number :'))\n",
    "def fib(n):\n",
    "    if n<0:\n",
    "        print(\"incorrect number\")\n",
    "    elif n==0:\n",
    "        return 0\n",
    "    elif n==1 or n==2:\n",
    "        return 1\n",
    "    else:\n",
    "        return fib(n-1)+fib(n-2)\n",
    "print('Fibonacci series is ',fib(Fibonacci))"
   ]
  },
  {
   "cell_type": "code",
   "execution_count": 4,
   "id": "355525ca",
   "metadata": {},
   "outputs": [],
   "source": [
    "##print prime numbers in a range"
   ]
  },
  {
   "cell_type": "code",
   "execution_count": 1,
   "id": "247fe8a4",
   "metadata": {},
   "outputs": [
    {
     "name": "stdout",
     "output_type": "stream",
     "text": [
      "Enter lower Range value :3\n",
      "Enter Upper Range value :12\n",
      "3\n",
      "5\n",
      "5\n",
      "5\n",
      "7\n",
      "7\n",
      "7\n",
      "7\n",
      "7\n",
      "9\n",
      "11\n",
      "11\n",
      "11\n",
      "11\n",
      "11\n",
      "11\n",
      "11\n",
      "11\n",
      "11\n"
     ]
    }
   ],
   "source": [
    "lower =int(input('Enter lower Range value :'))\n",
    "upper =int(input('Enter Upper Range value :'))\n",
    "for num in range(lower , upper +1):\n",
    "    if num>1:\n",
    "        for i in range(2, num):\n",
    "            if (num%i)==0:\n",
    "                break\n",
    "            else:\n",
    "                print(num)\n",
    "                \n",
    "        "
   ]
  },
  {
   "cell_type": "code",
   "execution_count": 1,
   "id": "30a72af2",
   "metadata": {},
   "outputs": [],
   "source": [
    "import numpy as np\n"
   ]
  },
  {
   "cell_type": "code",
   "execution_count": 3,
   "id": "71cb2e7d",
   "metadata": {},
   "outputs": [],
   "source": [
    "import pandas as pd\n"
   ]
  },
  {
   "cell_type": "code",
   "execution_count": null,
   "id": "8dca2d49",
   "metadata": {},
   "outputs": [],
   "source": []
  }
 ],
 "metadata": {
  "kernelspec": {
   "display_name": "Python 3 (ipykernel)",
   "language": "python",
   "name": "python3"
  },
  "language_info": {
   "codemirror_mode": {
    "name": "ipython",
    "version": 3
   },
   "file_extension": ".py",
   "mimetype": "text/x-python",
   "name": "python",
   "nbconvert_exporter": "python",
   "pygments_lexer": "ipython3",
   "version": "3.9.12"
  }
 },
 "nbformat": 4,
 "nbformat_minor": 5
}
