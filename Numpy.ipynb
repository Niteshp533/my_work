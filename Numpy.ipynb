{
 "cells": [
  {
   "cell_type": "code",
   "execution_count": 1,
   "id": "9365e688",
   "metadata": {},
   "outputs": [],
   "source": [
    "import numpy as np"
   ]
  },
  {
   "cell_type": "code",
   "execution_count": 9,
   "id": "c8a10f9f",
   "metadata": {},
   "outputs": [
    {
     "name": "stdout",
     "output_type": "stream",
     "text": [
      "2\n"
     ]
    }
   ],
   "source": [
    "arr = np.array([[1, 2, 3, 4],[5, 6, 7, 8 ]]) \n",
    "arr\n",
    "print(arr.ndim)"
   ]
  },
  {
   "cell_type": "code",
   "execution_count": 4,
   "id": "fa66af50",
   "metadata": {},
   "outputs": [
    {
     "name": "stdout",
     "output_type": "stream",
     "text": [
      "(2, 4)\n"
     ]
    }
   ],
   "source": [
    "print(arr.shape)"
   ]
  },
  {
   "cell_type": "code",
   "execution_count": 5,
   "id": "276e9a6d",
   "metadata": {},
   "outputs": [
    {
     "name": "stdout",
     "output_type": "stream",
     "text": [
      "<class 'numpy.ndarray'>\n"
     ]
    }
   ],
   "source": [
    "print(type(arr))"
   ]
  },
  {
   "cell_type": "code",
   "execution_count": 6,
   "id": "af1cddb2",
   "metadata": {},
   "outputs": [
    {
     "name": "stdout",
     "output_type": "stream",
     "text": [
      "<memory at 0x000001AC0AA94E10>\n"
     ]
    }
   ],
   "source": [
    "print(arr.data)"
   ]
  },
  {
   "cell_type": "code",
   "execution_count": 10,
   "id": "177e187f",
   "metadata": {},
   "outputs": [
    {
     "data": {
      "text/plain": [
       "<memory at 0x000001AC0C11CAD0>"
      ]
     },
     "execution_count": 10,
     "metadata": {},
     "output_type": "execute_result"
    }
   ],
   "source": [
    "arr.data\n"
   ]
  },
  {
   "cell_type": "code",
   "execution_count": 12,
   "id": "111a6915",
   "metadata": {},
   "outputs": [
    {
     "name": "stdout",
     "output_type": "stream",
     "text": [
      "[[1 2 3 4]\n",
      " [6 5 7 8]\n",
      " [2 4 4 9]] \n",
      "\n"
     ]
    }
   ],
   "source": [
    "b=np.array([[1, 2, 3, 4], [6, 5, 7, 8],[2, 4, 4, 9]])\n",
    "print(b,\"\\n\")"
   ]
  },
  {
   "cell_type": "code",
   "execution_count": 13,
   "id": "e7f928f9",
   "metadata": {},
   "outputs": [
    {
     "data": {
      "text/plain": [
       "12"
      ]
     },
     "execution_count": 13,
     "metadata": {},
     "output_type": "execute_result"
    }
   ],
   "source": [
    "b.size"
   ]
  },
  {
   "cell_type": "code",
   "execution_count": 14,
   "id": "20c26be9",
   "metadata": {},
   "outputs": [
    {
     "data": {
      "text/plain": [
       "(3, 4)"
      ]
     },
     "execution_count": 14,
     "metadata": {},
     "output_type": "execute_result"
    }
   ],
   "source": [
    "b.shape"
   ]
  },
  {
   "cell_type": "code",
   "execution_count": 19,
   "id": "d5baa201",
   "metadata": {},
   "outputs": [
    {
     "name": "stdout",
     "output_type": "stream",
     "text": [
      "[[ 1.  2.  3.  4.]\n",
      " [ 6. 85.  7.  8.]\n",
      " [25.  4. 64.  9.]] \n",
      "\n",
      "float64 \n",
      "\n",
      "8\n"
     ]
    }
   ],
   "source": [
    "b=np.array([[1, 2, 3, 4], [6, 85, 7, 8],[25, 4, 64, 9]], dtype=np.float64)\n",
    "print(b,\"\\n\")\n",
    "print(b.dtype,\"\\n\")\n",
    "print(b.itemsize)"
   ]
  },
  {
   "cell_type": "code",
   "execution_count": 21,
   "id": "979fd1b2",
   "metadata": {},
   "outputs": [
    {
     "name": "stdout",
     "output_type": "stream",
     "text": [
      "[[ 1.+0.j  2.+0.j  3.+0.j  4.+0.j]\n",
      " [ 6.+0.j 85.+0.j  7.+0.j  8.+0.j]\n",
      " [25.+0.j  4.+0.j 64.+0.j  9.+0.j]] \n",
      "\n",
      "complex64 \n",
      "\n",
      "8\n",
      "[[ 1.+0.j  2.+0.j  3.+0.j  4.+0.j]\n",
      " [ 6.+0.j 85.+0.j  7.+0.j  8.+0.j]\n",
      " [25.+0.j  4.+0.j 64.+0.j  9.+0.j]] \n",
      "\n",
      "complex128 \n",
      "\n",
      "16\n"
     ]
    }
   ],
   "source": [
    "c=np.array([[1, 2, 3, 4], [6, 85, 7, 8],[25, 4, 64, 9]], dtype=np.complex64)\n",
    "d=np.array([[1, 2, 3, 4], [6, 85, 7, 8],[25, 4, 64, 9]], dtype=np.complex128)\n",
    "print(c,\"\\n\")\n",
    "print(c.dtype,\"\\n\")\n",
    "print(c.itemsize)\n",
    "print(d,\"\\n\")\n",
    "print(d.dtype,\"\\n\")\n",
    "print(d.itemsize)"
   ]
  },
  {
   "cell_type": "code",
   "execution_count": 22,
   "id": "f02aa371",
   "metadata": {},
   "outputs": [
    {
     "name": "stdout",
     "output_type": "stream",
     "text": [
      "218.0\n"
     ]
    }
   ],
   "source": [
    "print(np.sum(b))"
   ]
  },
  {
   "cell_type": "code",
   "execution_count": 23,
   "id": "27c550be",
   "metadata": {},
   "outputs": [
    {
     "name": "stdout",
     "output_type": "stream",
     "text": [
      "[[ 1.  2.  3.  4.]\n",
      " [ 6. 85.  7.  8.]\n",
      " [25.  4. 64.  9.]] \n",
      "\n",
      "[32. 91. 74. 21.]\n",
      "[ 10. 106. 102.]\n"
     ]
    }
   ],
   "source": [
    "print(b,\"\\n\")\n",
    "print(np.sum(b, axis=0)) #'0 it is represent column'\n",
    "print(np.sum(b, axis=1))"
   ]
  },
  {
   "cell_type": "code",
   "execution_count": 28,
   "id": "7afeddc7",
   "metadata": {},
   "outputs": [
    {
     "name": "stdout",
     "output_type": "stream",
     "text": [
      "[[2 4 6]\n",
      " [6 8 2]\n",
      " [2 4 4]] \n",
      "\n",
      "2\n",
      "[2 4 2]\n",
      "[2 2 2]\n"
     ]
    }
   ],
   "source": [
    "b=np.array([[2, 4, 6], [6, 8, 2],[2, 4, 4]])\n",
    "print(b,\"\\n\")\n",
    "print(np.amin(b))\n",
    "print(np.amin(b, axis=0))\n",
    "print(np.amin(b, axis=1))"
   ]
  },
  {
   "cell_type": "code",
   "execution_count": 29,
   "id": "4c1585f6",
   "metadata": {},
   "outputs": [
    {
     "name": "stdout",
     "output_type": "stream",
     "text": [
      "8\n",
      "[6 8 6]\n",
      "[6 8 4]\n",
      "<class 'numpy.ndarray'>\n"
     ]
    }
   ],
   "source": [
    "print(np.amax(b))\n",
    "print(np.amax(b, axis=0))\n",
    "print(np.amax(b, axis=1))\n",
    "print(type(b))"
   ]
  },
  {
   "cell_type": "code",
   "execution_count": 30,
   "id": "9ebb5f3b",
   "metadata": {},
   "outputs": [
    {
     "name": "stdout",
     "output_type": "stream",
     "text": [
      "[[2 4 6]\n",
      " [6 8 2]\n",
      " [2 4 4]] \n",
      "\n",
      "4.222222222222222\n",
      "[3.33333333 5.33333333 4.        ]\n",
      "[4.         5.33333333 3.33333333]\n"
     ]
    }
   ],
   "source": [
    "print(b,\"\\n\")\n",
    "print(np.mean(b))\n",
    "print(np.mean(b, axis=0))\n",
    "print(np.mean(b, axis=1))"
   ]
  },
  {
   "cell_type": "code",
   "execution_count": 31,
   "id": "d04ef9ed",
   "metadata": {},
   "outputs": [
    {
     "name": "stdout",
     "output_type": "stream",
     "text": [
      "[[2 4 6]\n",
      " [6 8 2]\n",
      " [2 4 4]] \n",
      "\n",
      "4.0\n",
      "[2. 4. 4.]\n",
      "[4. 6. 4.]\n"
     ]
    }
   ],
   "source": [
    "print(b,\"\\n\")\n",
    "print(np.median(b))\n",
    "print(np.median(b, axis=0))\n",
    "print(np.median(b, axis=1))"
   ]
  },
  {
   "cell_type": "code",
   "execution_count": 32,
   "id": "3b5465d4",
   "metadata": {},
   "outputs": [
    {
     "name": "stdout",
     "output_type": "stream",
     "text": [
      "[[2 4 6]\n",
      " [6 8 2]\n",
      " [2 4 4]] \n",
      "\n",
      "1.9876159799998132\n",
      "[1.88561808 1.88561808 1.63299316]\n",
      "[1.63299316 2.49443826 0.94280904]\n"
     ]
    }
   ],
   "source": [
    "print(b,\"\\n\")\n",
    "print(np.std(b))\n",
    "print(np.std(b, axis=0))\n",
    "print(np.std(b, axis=1))"
   ]
  },
  {
   "cell_type": "code",
   "execution_count": 33,
   "id": "f5d7bec4",
   "metadata": {},
   "outputs": [
    {
     "name": "stdout",
     "output_type": "stream",
     "text": [
      "[[2 4 6]\n",
      " [6 8 2]\n",
      " [2 4 4]] \n",
      "\n",
      "3.9506172839506175\n",
      "[3.55555556 3.55555556 2.66666667]\n",
      "[2.66666667 6.22222222 0.88888889]\n"
     ]
    }
   ],
   "source": [
    "#variance\n",
    "print(b,\"\\n\")\n",
    "print(np.var(b))\n",
    "print(np.var(b, axis=0))\n",
    "print(np.var(b, axis=1))"
   ]
  },
  {
   "cell_type": "code",
   "execution_count": 34,
   "id": "9d19048f",
   "metadata": {},
   "outputs": [
    {
     "name": "stdout",
     "output_type": "stream",
     "text": [
      "4.222222222222222\n"
     ]
    }
   ],
   "source": [
    "#weighted averange\n",
    "print(np.average(b))"
   ]
  },
  {
   "cell_type": "code",
   "execution_count": 35,
   "id": "a499d6a7",
   "metadata": {},
   "outputs": [
    {
     "name": "stdout",
     "output_type": "stream",
     "text": [
      "[1 2 3 4 5 6 7]\n"
     ]
    }
   ],
   "source": [
    "E=np.array([1, 2, 3, 4, 5, 6, 7])\n",
    "print(E)"
   ]
  },
  {
   "cell_type": "code",
   "execution_count": 36,
   "id": "2b367387",
   "metadata": {},
   "outputs": [
    {
     "name": "stdout",
     "output_type": "stream",
     "text": [
      "[0.23 0.2  0.21 0.23 0.24 0.25 0.27]\n"
     ]
    }
   ],
   "source": [
    "W =np.array([0.23, 0.20, 0.21, 0.23, 0.24, 0.25,0.27])\n",
    "print(W)"
   ]
  },
  {
   "cell_type": "code",
   "execution_count": 40,
   "id": "090b889c",
   "metadata": {},
   "outputs": [
    {
     "name": "stdout",
     "output_type": "stream",
     "text": [
      "4.153374233128835\n",
      "4.0\n"
     ]
    }
   ],
   "source": [
    "print(np.average(E,weights = W))\n",
    "print(np.mean(E))"
   ]
  },
  {
   "cell_type": "code",
   "execution_count": 42,
   "id": "3ba6b2bc",
   "metadata": {},
   "outputs": [
    {
     "name": "stdout",
     "output_type": "stream",
     "text": [
      "[[2 4 6]\n",
      " [6 8 2]\n",
      " [2 4 4]] \n",
      "\n",
      "[2.  4.  2.2]\n",
      "[2.   4.   2.12]\n",
      "[2.   4.   2.16]\n"
     ]
    }
   ],
   "source": [
    "#percentile\n",
    "print(b,\"\\n\")\n",
    "print(np.percentile(b, 5,0))\n",
    "print(np.percentile(b, 3,0))\n",
    "print(np.percentile(b, 4,0))\n"
   ]
  },
  {
   "cell_type": "code",
   "execution_count": 44,
   "id": "094c718a",
   "metadata": {},
   "outputs": [
    {
     "name": "stdout",
     "output_type": "stream",
     "text": [
      "[[2 4 6]\n",
      " [6 8 2]\n",
      " [2 4 4]] \n",
      "\n",
      "[4 4 4]\n",
      "[4 6 2]\n",
      "6\n"
     ]
    }
   ],
   "source": [
    "print(b,\"\\n\")\n",
    "print(np.ptp(b, 0))\n",
    "print(np.ptp(b, 1))\n",
    "print(np.ptp(E, 0))"
   ]
  },
  {
   "cell_type": "code",
   "execution_count": 53,
   "id": "4b65e30e",
   "metadata": {},
   "outputs": [
    {
     "name": "stdout",
     "output_type": "stream",
     "text": [
      "[[1 2 3 4]\n",
      " [6 5 7 8]\n",
      " [2 4 4 9]] \n",
      "\n",
      "[[1 2 3]\n",
      " [4 6 5]\n",
      " [7 8 2]\n",
      " [4 4 9]] \n",
      "\n",
      "[[1 2 3 4]\n",
      " [6 5 7 8]\n",
      " [2 4 4 9]] \n",
      "\n"
     ]
    }
   ],
   "source": [
    "p=np.array([[1, 2, 3, 4], [6, 5, 7, 8],[2, 4, 4, 9]])\n",
    "print(p,\"\\n\")\n",
    "print(p.reshape(4, 3),\"\\n\")\n",
    "print(p,\"\\n\")"
   ]
  },
  {
   "cell_type": "code",
   "execution_count": 50,
   "id": "e04ef895",
   "metadata": {},
   "outputs": [
    {
     "name": "stdout",
     "output_type": "stream",
     "text": [
      "[[2 4 6 6]\n",
      " [6 8 2 8]\n",
      " [2 4 4 7]] \n",
      "\n",
      "6 \n",
      "\n",
      "2 \n",
      "\n",
      "7 \n",
      "\n",
      "4 \n",
      "\n",
      "[4 8] \n",
      "\n",
      "[2 4 4 7] \n",
      "\n",
      "[2 4] \n",
      "\n"
     ]
    }
   ],
   "source": [
    "l=np.array([[2, 4, 6, 6], [6, 8, 2, 8 ],[2, 4, 4, 7]])\n",
    "print(l,\"\\n\")\n",
    "print(l[0,3],\"\\n\")\n",
    "print(l[1,2],\"\\n\")\n",
    "print(l[2,3],\"\\n\")\n",
    "print(l[0,1],\"\\n\")\n",
    "print(l[0:2,1],\"\\n\")\n",
    "print(l[-1],\"\\n\")\n",
    "print(l[-1,0:2],\"\\n\")"
   ]
  },
  {
   "cell_type": "code",
   "execution_count": 62,
   "id": "8335b05a",
   "metadata": {},
   "outputs": [
    {
     "name": "stdout",
     "output_type": "stream",
     "text": [
      "[[ 0  1  2  3]\n",
      " [ 4  5  6  7]\n",
      " [ 8  9 10 11]] \n",
      "\n",
      "[[12 13 14 15]\n",
      " [16 17 18 19]\n",
      " [20 21 22 23]]\n"
     ]
    }
   ],
   "source": [
    "M=np.arange(12).reshape(3,4)\n",
    "print(M,'\\n')\n",
    "l=np.arange(12,24).reshape(3,4)\n",
    "print(l)"
   ]
  },
  {
   "cell_type": "code",
   "execution_count": 60,
   "id": "7383d513",
   "metadata": {},
   "outputs": [
    {
     "name": "stdout",
     "output_type": "stream",
     "text": [
      "[[2 4 6 6]\n",
      " [6 8 2 8]\n",
      " [2 4 4 7]] \n",
      "\n",
      "[[ 0  1  2  3]\n",
      " [ 4  5  6  7]\n",
      " [ 8  9 10 11]] \n",
      "\n",
      "[[ 2  4  6  6  0  1  2  3]\n",
      " [ 6  8  2  8  4  5  6  7]\n",
      " [ 2  4  4  7  8  9 10 11]] \n",
      "\n",
      "[[ 0  1  2  3  2  4  6  6]\n",
      " [ 4  5  6  7  6  8  2  8]\n",
      " [ 8  9 10 11  2  4  4  7]] \n",
      "\n"
     ]
    }
   ],
   "source": [
    "l=np.array([[2, 4, 6, 6], [6, 8, 2, 8 ],[2, 4, 4, 7]])\n",
    "print(l,\"\\n\")\n",
    "print(M,\"\\n\")\n",
    "print(np.hstack((l,M)),'\\n')\n",
    "print(np.hstack((M,l)),'\\n')"
   ]
  },
  {
   "cell_type": "code",
   "execution_count": 61,
   "id": "611f0d06",
   "metadata": {},
   "outputs": [
    {
     "name": "stdout",
     "output_type": "stream",
     "text": [
      "[[2 4 6 6]\n",
      " [6 8 2 8]\n",
      " [2 4 4 7]] \n",
      "\n",
      "[[ 0  1  2  3]\n",
      " [ 4  5  6  7]\n",
      " [ 8  9 10 11]] \n",
      "\n",
      "[[ 2  4  6  6]\n",
      " [ 6  8  2  8]\n",
      " [ 2  4  4  7]\n",
      " [ 0  1  2  3]\n",
      " [ 4  5  6  7]\n",
      " [ 8  9 10 11]] \n",
      "\n",
      "[[ 0  1  2  3]\n",
      " [ 4  5  6  7]\n",
      " [ 8  9 10 11]\n",
      " [ 2  4  6  6]\n",
      " [ 6  8  2  8]\n",
      " [ 2  4  4  7]] \n",
      "\n"
     ]
    }
   ],
   "source": [
    "print(np.vstack((l,M)),'\\n')\n",
    "print(np.vstack((M,l)),'\\n')"
   ]
  },
  {
   "cell_type": "code",
   "execution_count": 64,
   "id": "a34dd152",
   "metadata": {},
   "outputs": [],
   "source": [
    "from numpy import random"
   ]
  },
  {
   "cell_type": "code",
   "execution_count": 65,
   "id": "254ef585",
   "metadata": {},
   "outputs": [
    {
     "name": "stdout",
     "output_type": "stream",
     "text": [
      "77\n"
     ]
    }
   ],
   "source": [
    "x= random.randint(100)\n",
    "print(x)"
   ]
  },
  {
   "cell_type": "code",
   "execution_count": 68,
   "id": "3c269c83",
   "metadata": {},
   "outputs": [
    {
     "name": "stdout",
     "output_type": "stream",
     "text": [
      "0.5092347430284055\n"
     ]
    }
   ],
   "source": [
    "x= random.rand()\n",
    "print(x)"
   ]
  },
  {
   "cell_type": "code",
   "execution_count": 70,
   "id": "13912417",
   "metadata": {},
   "outputs": [
    {
     "name": "stdout",
     "output_type": "stream",
     "text": [
      "[[49 62  2  1]\n",
      " [47 56 40 37]\n",
      " [42 52  0 54]]\n"
     ]
    }
   ],
   "source": [
    "x= random.randint(100, size=(3,4))\n",
    "print(x)"
   ]
  },
  {
   "cell_type": "code",
   "execution_count": null,
   "id": "1ee5f0d8",
   "metadata": {},
   "outputs": [],
   "source": []
  }
 ],
 "metadata": {
  "kernelspec": {
   "display_name": "Python 3 (ipykernel)",
   "language": "python",
   "name": "python3"
  },
  "language_info": {
   "codemirror_mode": {
    "name": "ipython",
    "version": 3
   },
   "file_extension": ".py",
   "mimetype": "text/x-python",
   "name": "python",
   "nbconvert_exporter": "python",
   "pygments_lexer": "ipython3",
   "version": "3.9.12"
  }
 },
 "nbformat": 4,
 "nbformat_minor": 5
}
