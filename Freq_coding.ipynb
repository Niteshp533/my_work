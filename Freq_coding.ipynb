{
 "cells": [
  {
   "cell_type": "code",
   "execution_count": 1,
   "id": "aab329f1",
   "metadata": {},
   "outputs": [
    {
     "data": {
      "text/plain": [
       "'\\nWrite a code to reverse a number\\nWrite the code to find the Fibonacci series upto the nth term.\\nWrite the code of Greatest Common Divisor\\nWrite a code for the Perfect number\\nWrite a code to check if two Strings are Anagram or not\\nWrite a code to check if the given string is a palindrome or not\\nWrite a code to calculate the frequency of characters in a string\\nWrite a code to check if two strings match, where one string contains wildcard characters.\\nWrite a code for bubble sort\\nHow is the merge sort algorithm implemented?\\nWrite to code to check whether a given year is leap year or not.\\nFind non-repeating characters in a string\\nWrite a code to replace a substring in a string.\\nWrite a code for Heap sort.\\nWrite a code to replace each element in an array by its rank in the array\\nWrite a code to find circular rotation of an array by K positions.\\nWrite a code to find non repeating elements in an array.\\nWrite a code to check for the longest palindrome.\\nWrite a code to find the factorial of a number.\\nWrite the code to for Armstrong number\\nWrite a program to find the sum of Natural Numbers using Recursion\\nWrite a program to add two matrices using multi-dimensional array\\nWrite a program to find the sum of natural numbers using recursion\\nWrite a code to check a string is palindrome or not\\nWrite a program for binary to decimal to conversion\\nWrite a program to check whether a character is vowel or consonant\\nWrite a code to find an automorphic number\\nWrite a code to find the ASCII value of a character\\nWrite a code to remove all characters from string except alphabets\\nWrite a code to find the Fibonacci Series using Recursion\\nWrite a code to Reverse the element of the array\\n Write a code to Sort the element of the array\\n Write a code to Sort the element of the array without sort method\\n Write a code to Replace a Substring in a string\\n Write a code to Remove space from a string\\nWrite a code to count inversion\\n Write a code to find consecutive largest subsequence\\n Write a code to find Fibonacci Series using Recursion\\n'"
      ]
     },
     "execution_count": 1,
     "metadata": {},
     "output_type": "execute_result"
    }
   ],
   "source": [
    "'''\n",
    "Write a code to reverse a number\n",
    "Write the code to find the Fibonacci series upto the nth term.\n",
    "Write the code of Greatest Common Divisor\n",
    "Write a code for the Perfect number\n",
    "Write a code to check if two Strings are Anagram or not\n",
    "Write a code to check if the given string is a palindrome or not\n",
    "Write a code to calculate the frequency of characters in a string\n",
    "Write a code to check if two strings match, where one string contains wildcard characters.  @\n",
    "Write a code for bubble sort\n",
    "How is the merge sort algorithm implemented?                         @\n",
    "Write to code to check whether a given year is leap year or not.     %\n",
    "Find non-repeating characters in a string                            %\n",
    "Write a code for Heap sort.                                          @\n",
    "Write a code to replace each element in an array by its rank in the array\n",
    "Write a code to find circular rotation of an array by K positions.     @\n",
    "Write a code to find non repeating elements in an array.               @\n",
    "Write a code to check for the longest palindrome.                      @\n",
    "Write a code to find the factorial of a number.                        #\n",
    "Write the code to for Armstrong number                                 *\n",
    "Write a program to find the sum of Natural Numbers using Recursion     #\n",
    "Write a program to add two matrices using multi-dimensional array      #\n",
    "Write a code to check a string is palindrome or not                    #\n",
    "Write a program for binary to decimal to conversion                    #\n",
    "Write a program to check whether a character is vowel or consonant     #\n",
    "Write a code to find an automorphic number                             #\n",
    "Write a code to find the ASCII value of a character                    #\n",
    "Write a code to remove all characters from string except alphabets     *\n",
    "Write a code to find the Fibonacci Series using Recursion              *\n",
    "Write a code to Reverse the element of the array                       *\n",
    " Write a code to Sort the element of the array                         *\n",
    " Write a code to Sort the element of the array without sort method     *\n",
    " Write a code to Replace a Substring in a string                       *\n",
    " Write a code to Remove space from a string                            *\n",
    " Write a code to count inversion\n",
    " Write a code to find consecutive largest subsequence                  @\n",
    "'''"
   ]
  },
  {
   "cell_type": "code",
   "execution_count": 3,
   "id": "811fd272",
   "metadata": {},
   "outputs": [
    {
     "name": "stdout",
     "output_type": "stream",
     "text": [
      "Enter a number : 3546\n",
      "6453\n"
     ]
    }
   ],
   "source": [
    "#Write a code to reverse a number\n",
    "def reverse(num):\n",
    "    return str(num)[::-1]\n",
    "num = int(input(\"Enter a number : \"))\n",
    "print(reverse(num))"
   ]
  },
  {
   "cell_type": "code",
   "execution_count": 27,
   "id": "69196285",
   "metadata": {},
   "outputs": [
    {
     "name": "stdout",
     "output_type": "stream",
     "text": [
      "Enter a number : 9\n",
      "34\n"
     ]
    }
   ],
   "source": [
    "#Write the code to find the Fibonacci series upto the nth term.\n",
    "def fibb(num):\n",
    "    a = 0\n",
    "    b = 1\n",
    "    if num == 0 or num == 1:\n",
    "        return num\n",
    "    else:\n",
    "        for i in range(num-1):\n",
    "            temp = a + b\n",
    "            a = b\n",
    "            b = temp\n",
    "\n",
    "        return b\n",
    "num = int(input(\"Enter a number : \"))\n",
    "print(fibb(num))\n",
    "            "
   ]
  },
  {
   "cell_type": "code",
   "execution_count": 15,
   "id": "b24d705b",
   "metadata": {},
   "outputs": [
    {
     "name": "stdout",
     "output_type": "stream",
     "text": [
      "14\n",
      "14\n"
     ]
    }
   ],
   "source": [
    "#Write the code of Greatest Common Divisor\n",
    "def Gcd(a,b):\n",
    "    if b == 0:\n",
    "        return a\n",
    "    else:\n",
    "        return Gcd(b,a%b)\n",
    "    \n",
    "def Hcf(x,y):\n",
    "    if x == y:\n",
    "        return x\n",
    "    \n",
    "    if y == 0:\n",
    "        return x\n",
    "    elif x == 0:\n",
    "        return y\n",
    "    \n",
    "    if x > y:\n",
    "        return Hcf(x-y,y)\n",
    "    return Hcf(x,y-x)\n",
    "\n",
    "a,b = 98,56\n",
    "print(Gcd(a,b))\n",
    "x,y = 98,56\n",
    "print(Hcf(x,y))"
   ]
  },
  {
   "cell_type": "code",
   "execution_count": 24,
   "id": "b80e9681",
   "metadata": {},
   "outputs": [
    {
     "name": "stdout",
     "output_type": "stream",
     "text": [
      "Enter a number : 15\n",
      "1->3->5\n",
      "False\n"
     ]
    }
   ],
   "source": [
    "#Write a code for the Perfect number\n",
    "def Per_num(num):\n",
    "    if num == 1:\n",
    "        return \n",
    "    sum = 0\n",
    "    res= \"\"\n",
    "    for i in range(1,num//2+1):\n",
    "        if num % i == 0:\n",
    "            sum += i\n",
    "            res = res + str(i) + '->'\n",
    "    print(res[:-2])\n",
    "    if sum == num:\n",
    "        return True\n",
    "    else:\n",
    "        return False\n",
    "\n",
    "num = int(input(\"Enter a number : \"))\n",
    "print(Per_num(num))"
   ]
  },
  {
   "cell_type": "code",
   "execution_count": 38,
   "id": "f00ab106",
   "metadata": {},
   "outputs": [
    {
     "name": "stdout",
     "output_type": "stream",
     "text": [
      "False\n"
     ]
    }
   ],
   "source": [
    "#Write a code to check if two Strings are Anagram or not\n",
    "def anagram(stri1,stri2):\n",
    "    \n",
    "    flag = True\n",
    "    for i in stri1.lower():\n",
    "        if i not in stri2.lower():\n",
    "            flag = False\n",
    "            break\n",
    "    return flag\n",
    "\n",
    "stri1 = 'Gpab'\n",
    "stri2 = 'Brag'\n",
    "print(anagram(stri1,stri2))\n",
    "        "
   ]
  },
  {
   "cell_type": "code",
   "execution_count": 29,
   "id": "7b739cce",
   "metadata": {},
   "outputs": [
    {
     "name": "stdout",
     "output_type": "stream",
     "text": [
      "ABCDE\n"
     ]
    }
   ],
   "source": [
    "# Conversion of string to upper case without inbuilt methods\n",
    "# a-z : 97 - 122\n",
    "# A-Z : 65 - 90\n",
    "def uppercase(str_data):\n",
    "    result = ''\n",
    "    for char in str_data:\n",
    "        if ord(char) >= 65:\n",
    "            result += chr(ord(char) - 32)    # A-a = 97 -65 = 32\n",
    "    return result\n",
    "print(uppercase('abcde'))\n"
   ]
  },
  {
   "cell_type": "code",
   "execution_count": 33,
   "id": "a447e67d",
   "metadata": {},
   "outputs": [
    {
     "data": {
      "text/plain": [
       "97"
      ]
     },
     "execution_count": 33,
     "metadata": {},
     "output_type": "execute_result"
    }
   ],
   "source": [
    "ord('a')\n"
   ]
  },
  {
   "cell_type": "code",
   "execution_count": 35,
   "id": "ea7486fb",
   "metadata": {},
   "outputs": [
    {
     "data": {
      "text/plain": [
       "'A'"
      ]
     },
     "execution_count": 35,
     "metadata": {},
     "output_type": "execute_result"
    }
   ],
   "source": [
    "chr(97 -32)"
   ]
  },
  {
   "cell_type": "code",
   "execution_count": 30,
   "id": "af470470",
   "metadata": {},
   "outputs": [
    {
     "name": "stdout",
     "output_type": "stream",
     "text": [
      "False\n"
     ]
    }
   ],
   "source": [
    "#Write a code to check if the given string is a palindrome or not\n",
    "def polin(s_tr):\n",
    "    temp1 =[]\n",
    "    temp2 =[]\n",
    "    flag = True\n",
    "    if len(s_tr)%2 == 0:\n",
    "        for i in range(len(s_tr)//2+1):\n",
    "            temp1.append(s_tr[i])\n",
    "        for j in range(len(s_tr), len(s_tr)//2+1, -1):\n",
    "            temp2.append(s_tr[j])\n",
    "        for k in range(len(s_tr)//2+1):\n",
    "            if temp1[k] != temp2[k]:\n",
    "                flag = False\n",
    "                break\n",
    "    else:\n",
    "        for i in range((len(s_tr)+1)//2):\n",
    "            temp1.append(s_tr[i])\n",
    "        for j in range(len(s_tr), (len(s_tr)+1)//2, -1):\n",
    "            temp2.append(s_tr[j-1])\n",
    "        for k in range((len(s_tr))//2):\n",
    "            if temp1[k] != temp2[k]:\n",
    "                flag = False\n",
    "                break\n",
    "    return flag\n",
    "\n",
    "string = 'asdfghjkl'\n",
    "print(polin(string))\n",
    "                    "
   ]
  },
  {
   "cell_type": "code",
   "execution_count": 51,
   "id": "88812949",
   "metadata": {},
   "outputs": [
    {
     "name": "stdout",
     "output_type": "stream",
     "text": [
      "d -> 1, c -> 4, a -> 3, s -> 1, h -> 1, b -> 3\n"
     ]
    }
   ],
   "source": [
    "# Write a code to calculate the frequency of characters in a string\n",
    "def freqCount(s_tr):\n",
    "    temp_set = set(s_tr)\n",
    "    res = \"\"\n",
    "    for i in temp_set:\n",
    "        count = 0\n",
    "        for j in s_tr:\n",
    "            if j == i:\n",
    "                count+=1\n",
    "        res = res + f'{i} -> {count}'+\", \"\n",
    "    return res[:-2]\n",
    " \n",
    "string = 'acbsdhaccabcb'\n",
    "\n",
    "print(freqCount(string))"
   ]
  },
  {
   "cell_type": "code",
   "execution_count": 15,
   "id": "7ad11d8b",
   "metadata": {},
   "outputs": [
    {
     "name": "stdout",
     "output_type": "stream",
     "text": [
      "[-22, 1, 2, 3, 5, 8, 17, 49, 75]\n"
     ]
    }
   ],
   "source": [
    "#Write a code for bubble sort\n",
    "def bubble_Sort(lst):\n",
    "    for i in range(len(lst)):\n",
    "        for j in range(len(lst)):\n",
    "            if lst[i] <= lst[j]:\n",
    "                temp = lst[i] \n",
    "                lst[i] = lst[j]\n",
    "                lst[j] = temp\n",
    "    return lst\n",
    "\n",
    "lsyt = [2,1,17,49,5,8,75,3,-22]\n",
    "print(bubble_Sort(lsyt))  "
   ]
  },
  {
   "cell_type": "code",
   "execution_count": 64,
   "id": "f11c1c99",
   "metadata": {},
   "outputs": [
    {
     "name": "stdout",
     "output_type": "stream",
     "text": [
      "nah, This is not leap year!\n"
     ]
    }
   ],
   "source": [
    "#Write to code to check whether a given year is leap year or not.\n",
    "def is_leapyear(year):\n",
    "    if year%100 != 0:\n",
    "        if year%4 == 0:\n",
    "            return \"yah, This is leap year!\"\n",
    "        else:\n",
    "            return \"nah, This is not leap year!\"\n",
    "    else:\n",
    "        if year%400 == 0:\n",
    "            return \"yah, This is leap year!\"\n",
    "        else:\n",
    "            return \"nah, This is not leap year!\"\n",
    "            \n",
    "year = 2423\n",
    "print(is_leapyear(year))"
   ]
  },
  {
   "cell_type": "code",
   "execution_count": 74,
   "id": "58011ea1",
   "metadata": {},
   "outputs": [
    {
     "name": "stdout",
     "output_type": "stream",
     "text": [
      "f 1\n",
      "a 1\n"
     ]
    }
   ],
   "source": [
    "#Find non-repeating characters in a string\n",
    "def non_rep(s_tr):\n",
    "    for i in set(s_tr):\n",
    "        a =s_tr.count(i)\n",
    "        if a==1:\n",
    "            print(i,a)\n",
    "        else:\n",
    "            continue\n",
    "            \n",
    "stri= 'adsfdshhjjbnmnnmbbvv' \n",
    "non_rep(stri)"
   ]
  },
  {
   "cell_type": "code",
   "execution_count": 6,
   "id": "9a53ca06",
   "metadata": {},
   "outputs": [
    {
     "data": {
      "text/plain": [
       "[3, 3, 5, 11, 24, 35, 55, 56, 66]"
      ]
     },
     "execution_count": 6,
     "metadata": {},
     "output_type": "execute_result"
    }
   ],
   "source": [
    "#How is the merge sort algorithm implemented?\n",
    "\n",
    "def merge_sort(array):\n",
    "    if len(array)<2:\n",
    "        return array\n",
    "    mid = len(array)//2\n",
    "    left = merge_sort(array[:mid])\n",
    "    right = merge_sort(array[mid:])\n",
    "    return merg_e(left, right)\n",
    "\n",
    "def merg_e(left, right):\n",
    "    result = []\n",
    "    i=j= 0\n",
    "    while i<len(left) or j< len(right):\n",
    "        if left[i]<=right[j]:\n",
    "            result.append(left[i])\n",
    "            i+=1\n",
    "        else:\n",
    "            result.append(right[j])\n",
    "            j+=1\n",
    "        if i == len(left) or j==len(right):\n",
    "            result.extend(left[i:] or right[j:])\n",
    "            break\n",
    "    return result\n",
    "        \n",
    "            \n",
    "ls= [11,35,56,3,5,66,3,24,55]\n",
    "merge_sort(ls)"
   ]
  },
  {
   "cell_type": "code",
   "execution_count": 1,
   "id": "264d1d40",
   "metadata": {},
   "outputs": [],
   "source": [
    "#Write a code for Heap sort."
   ]
  },
  {
   "cell_type": "code",
   "execution_count": 2,
   "id": "ac4b030d",
   "metadata": {},
   "outputs": [],
   "source": [
    "# Write a code to replace each element in an \n",
    "#array by its rank in the array  "
   ]
  },
  {
   "cell_type": "code",
   "execution_count": 7,
   "id": "764da8db",
   "metadata": {},
   "outputs": [
    {
     "ename": "NameError",
     "evalue": "name 'find' is not defined",
     "output_type": "error",
     "traceback": [
      "\u001b[1;31m---------------------------------------------------------------------------\u001b[0m",
      "\u001b[1;31mNameError\u001b[0m                                 Traceback (most recent call last)",
      "\u001b[1;32m~\\AppData\\Local\\Temp\\ipykernel_6460\\2795319357.py\u001b[0m in \u001b[0;36m<module>\u001b[1;34m\u001b[0m\n\u001b[0;32m      1\u001b[0m \u001b[0ml\u001b[0m\u001b[1;33m=\u001b[0m \u001b[1;33m[\u001b[0m\u001b[1;36m3\u001b[0m\u001b[1;33m,\u001b[0m\u001b[1;36m2\u001b[0m\u001b[1;33m,\u001b[0m\u001b[1;36m2\u001b[0m\u001b[1;33m,\u001b[0m\u001b[1;36m2\u001b[0m\u001b[1;33m,\u001b[0m\u001b[1;36m2\u001b[0m\u001b[1;33m,\u001b[0m\u001b[1;36m2\u001b[0m\u001b[1;33m]\u001b[0m\u001b[1;33m\u001b[0m\u001b[1;33m\u001b[0m\u001b[0m\n\u001b[1;32m----> 2\u001b[1;33m \u001b[0mprint\u001b[0m\u001b[1;33m(\u001b[0m\u001b[0mfind\u001b[0m\u001b[1;33m(\u001b[0m\u001b[1;36m2\u001b[0m\u001b[1;33m)\u001b[0m\u001b[1;33m)\u001b[0m\u001b[1;33m\u001b[0m\u001b[1;33m\u001b[0m\u001b[0m\n\u001b[0m",
      "\u001b[1;31mNameError\u001b[0m: name 'find' is not defined"
     ]
    }
   ],
   "source": [
    "l= [3,2,2,2,2,2]\n",
    "print(find(2))"
   ]
  },
  {
   "cell_type": "code",
   "execution_count": 7,
   "id": "c68a0142",
   "metadata": {},
   "outputs": [
    {
     "name": "stdout",
     "output_type": "stream",
     "text": [
      "1\n",
      "1\n"
     ]
    }
   ],
   "source": [
    "#Write a code to find the factorial of a number.\n",
    "def factorial(num):\n",
    "    if num == 0:\n",
    "        return 1\n",
    "    return num * factorial(num - 1)\n",
    "\n",
    "def fact(num):\n",
    "    if num == 0:\n",
    "        return 1\n",
    "    val = 1\n",
    "    for i in range(1, num + 1):\n",
    "        val = val * i\n",
    "    return val\n",
    "        \n",
    "\n",
    "Number = 0\n",
    "print(factorial(Number))\n",
    "print(fact(Number))\n",
    "    "
   ]
  },
  {
   "cell_type": "code",
   "execution_count": 18,
   "id": "71b53e07",
   "metadata": {},
   "outputs": [
    {
     "name": "stdout",
     "output_type": "stream",
     "text": [
      "45\n"
     ]
    }
   ],
   "source": [
    "# Write a program to find the sum of Natural Numbers using Recursion\n",
    "def sum(num):\n",
    "    if num <= 0:\n",
    "        return 'Input Error : It is not Natural Number(s)!'\n",
    "    if num == 1:\n",
    "        return 1\n",
    "    return num + sum(num -1)\n",
    "\n",
    "\n",
    "Number = 9\n",
    "print(sum(Number))"
   ]
  },
  {
   "cell_type": "code",
   "execution_count": 52,
   "id": "ceda9f97",
   "metadata": {},
   "outputs": [
    {
     "name": "stdout",
     "output_type": "stream",
     "text": [
      "[[15 10]\n",
      " [ 5  0]]\n",
      "[[15 10]\n",
      " [ 5  0]\n",
      " [69  6]]\n"
     ]
    }
   ],
   "source": [
    "# Write a program to add two matrices using multi-dimensional array\n",
    "def mul_add(lst1, lst2):\n",
    "    if lst1.shape == lst2.shape:\n",
    "        return lst1 + lst2\n",
    "    else:\n",
    "        return 'Undefined shape : Matrix multiplication is not possible!'\n",
    "    \n",
    "import numpy as np\n",
    "lst1 = np.array([[12,3],[3,4]])\n",
    "lst2 = np.array([[3,7],[2,-4]])\n",
    "print(mul_add(lst1, lst2))\n",
    "lst1 = np.array([[12,3],[3,4],[66,6]])\n",
    "lst2 = np.array([[3,7],[2,-4],[3,0]])\n",
    "print(mul_add(lst1, lst2))"
   ]
  },
  {
   "cell_type": "code",
   "execution_count": 51,
   "id": "cae400bd",
   "metadata": {},
   "outputs": [
    {
     "name": "stdout",
     "output_type": "stream",
     "text": [
      "[[15, 10], [5, 0], [69, 6]]\n"
     ]
    }
   ],
   "source": [
    "# Write a program to add two matrices using multi-dimensional array\n",
    "def mul_addition(lst1, lst2):\n",
    "    \n",
    "    if len(lst1) == len(lst2):\n",
    "        n = len(lst2)\n",
    "        res= [[0 for a in range(len(lst1[0]))] for b in range(len(lst2))]\n",
    "        for i in range(n):\n",
    "            for j in range(len(lst1[0])):\n",
    "                res[i][j] = lst1[i][j]+ lst2[i][j]\n",
    "        return res \n",
    "    else:\n",
    "        return 'Undefined shape : Matrix multiplication is not possible!'\n",
    "    \n",
    "lst1 = [[12,3],[3,4],[66,6]]\n",
    "lst2 = [[3,7],[2,-4],[3,0]]\n",
    "print(mul_addition(lst1, lst2))"
   ]
  },
  {
   "cell_type": "code",
   "execution_count": 64,
   "id": "66701a94",
   "metadata": {},
   "outputs": [
    {
     "name": "stdout",
     "output_type": "stream",
     "text": [
      "14\n"
     ]
    }
   ],
   "source": [
    "# Write a program for binary to decimal to conversion\n",
    "def bin_dec(s_tr):\n",
    "    res = 0 \n",
    "    #st_r =  s_tr[::-1]\n",
    "    for i in range(len(s_tr)):\n",
    "        #if st_r[i] == '1':\n",
    "        if s_tr[len(s_tr)-1-i] == '1':\n",
    "            res = res + 2**i\n",
    "        else:\n",
    "            continue\n",
    "    return res\n",
    "\n",
    "string = '1110'\n",
    "print(bin_dec(string))"
   ]
  },
  {
   "cell_type": "code",
   "execution_count": 75,
   "id": "a14cd7b5",
   "metadata": {},
   "outputs": [
    {
     "name": "stdout",
     "output_type": "stream",
     "text": [
      "97\n",
      "101\n",
      "105\n",
      "111\n",
      "117\n"
     ]
    }
   ],
   "source": [
    "print(ord('a'))\n",
    "print(ord('e'))\n",
    "print(ord('i'))\n",
    "print(ord('o'))\n",
    "print(ord('u'))\n",
    "#chr(122)"
   ]
  },
  {
   "cell_type": "code",
   "execution_count": 84,
   "id": "2862dde8",
   "metadata": {},
   "outputs": [
    {
     "name": "stdout",
     "output_type": "stream",
     "text": [
      "Yah, This is VOWEL! It unicode value is 65.\n"
     ]
    }
   ],
   "source": [
    "# Write a program to check whether a character is vowel or consonant\n",
    "def chck_eng(ch_r):\n",
    "    lst = [97,101,105,111,117]\n",
    "    if ord(ch_r.lower()) in lst:\n",
    "        return f'Yah, This is VOWEL! It unicode value is {ord(ch_r)}.'\n",
    "    else:\n",
    "        return f'Oo, This is CONSONANT! It unicode value is {ord(ch_r)}.'\n",
    "    \n",
    "character = 'A'\n",
    "print(chck_eng(character))"
   ]
  },
  {
   "cell_type": "code",
   "execution_count": 118,
   "id": "021dbee9",
   "metadata": {},
   "outputs": [
    {
     "name": "stdout",
     "output_type": "stream",
     "text": [
      "Nah, It is not an automorphic number.\n"
     ]
    }
   ],
   "source": [
    "# Write a code to find an automorphic number\n",
    "# A number is called an automorphic number if and only if the square of the given number ends with the same number itself.\n",
    "# For example, 25, 76 are automorphic numbers because their square is 625 and 5776.\n",
    "\n",
    "def automorph(num):\n",
    "    temp = (num)**2\n",
    "    l = len(str(num))\n",
    "    calcu = temp - temp//(10**l)*(10**l)\n",
    "    if calcu == num:\n",
    "        return 'Yaah, It is an automorphic number.'\n",
    "    else:\n",
    "        return 'Nah, It is not an automorphic number.'\n",
    "    \n",
    "Number = \n",
    "print(automorph(Number))\n"
   ]
  },
  {
   "cell_type": "code",
   "execution_count": 120,
   "id": "ed09e5a4",
   "metadata": {},
   "outputs": [
    {
     "name": "stdout",
     "output_type": "stream",
     "text": [
      "107\n"
     ]
    }
   ],
   "source": [
    "# Write a code to find the ASCII value of a character \n",
    "def asci_i(c_hr):\n",
    "    return ord(c_hr)\n",
    "\n",
    "char = 'k'\n",
    "print(asci_i(char))"
   ]
  },
  {
   "cell_type": "code",
   "execution_count": 13,
   "id": "9e81cc08",
   "metadata": {},
   "outputs": [
    {
     "name": "stdout",
     "output_type": "stream",
     "text": [
      "Yaah, It is an Armstrong number!\n"
     ]
    }
   ],
   "source": [
    "# Write the code to for Armstrong number.\n",
    "# Armstrong number is a number that is equal to the sum of cubes of its digits. \n",
    "\n",
    "def armstr_Num(num):\n",
    "    su_m = 0 \n",
    "    stat_var = num\n",
    "    for i in range(len(str(num))):\n",
    "        temp_val = num % 10\n",
    "        su_m += (temp_val)**3\n",
    "        num = num//10\n",
    "    if su_m == stat_var:\n",
    "        return 'Yaah, It is an Armstrong number!'\n",
    "    else:\n",
    "        return 'Nah, It is not an Armstrong number!'\n",
    "\n",
    "Number = 407\n",
    "print(armstr_Num(Number))"
   ]
  },
  {
   "cell_type": "code",
   "execution_count": 34,
   "id": "1286c779",
   "metadata": {},
   "outputs": [
    {
     "name": "stdout",
     "output_type": "stream",
     "text": [
      "asdfchhjfvjinxz\n"
     ]
    }
   ],
   "source": [
    "# Write a code to remove all characters from string except alphabets.\n",
    "def rem_v_spec(st_r):\n",
    "    temp_var = st_r\n",
    "    for i in st_r:\n",
    "        if 65<= ord(i) <=90 or 97<= ord(i) <=122:\n",
    "            continue\n",
    "        else:\n",
    "            temp_var = temp_var.translate({ord(i): None})\n",
    "    return temp_var\n",
    "    \n",
    "\n",
    "string = 'as$dfc&hhj(fv+j)i!n *xz@#'\n",
    "print(rem_v_spec(string))"
   ]
  },
  {
   "cell_type": "code",
   "execution_count": 44,
   "id": "100cfc2b",
   "metadata": {},
   "outputs": [
    {
     "name": "stdout",
     "output_type": "stream",
     "text": [
      "34\n"
     ]
    }
   ],
   "source": [
    "# Write a code to find the Fibonacci Series using Recursion.\n",
    "\n",
    "def fib_recur(num):\n",
    "    if num == 0 or num == 1:\n",
    "        return num\n",
    "    return fib_recur(num -2) + fib_recur(num -1)\n",
    "\n",
    "\n",
    "Number = 9\n",
    "print(fib_recur(Number))"
   ]
  },
  {
   "cell_type": "code",
   "execution_count": 59,
   "id": "aae23fc3",
   "metadata": {},
   "outputs": [
    {
     "name": "stdout",
     "output_type": "stream",
     "text": [
      "[6, 5, 4, 3, 2, 1]\n",
      "[6, 5, 4, 3, 2, 1]\n"
     ]
    }
   ],
   "source": [
    "# Write a code to Reverse the element of the array.\n",
    "\n",
    "def reve_rse(lst):\n",
    "    return lst[::-1]\n",
    "\n",
    "def rev_s(lst):\n",
    "    temp = 0\n",
    "    for i in range(len(lst)//2):\n",
    "        temp = lst[i]\n",
    "        lst[i] = lst[len(lst)-1-i]\n",
    "        lst[len(lst)-1-i] = temp\n",
    "    return lst\n",
    "\n",
    "lst =[1,2,3,4,5,6]\n",
    "print(reve_rse(lst))\n",
    "print(rev_s(lst))"
   ]
  },
  {
   "cell_type": "code",
   "execution_count": 6,
   "id": "12e25a70",
   "metadata": {},
   "outputs": [
    {
     "name": "stdout",
     "output_type": "stream",
     "text": [
      "[-89, -34, -6, -4, -3, 0.65, 6, 12, 23, 35, 43, 89]\n"
     ]
    }
   ],
   "source": [
    "# Write a code to Sort the element of the array.\n",
    "\n",
    "def s_ort(lst):\n",
    "    temp_lst = []\n",
    "    temp_var = 0\n",
    "    while lst:\n",
    "        temp_var = lst[0]\n",
    "        for j in lst:\n",
    "            if j < temp_var:\n",
    "                temp_var = j\n",
    "        temp_lst.append(temp_var)\n",
    "        lst.remove(temp_var)\n",
    "    return temp_lst\n",
    "\n",
    "def sor_t(lst):\n",
    "    lst.sort()\n",
    "    return lst\n",
    "\n",
    "l_st = [89,-3, 35,6,23,0.65, -89,12,43,-4,-6,-34]\n",
    "#print(s_ort(l_st))\n",
    "print(sor_t(l_st))"
   ]
  },
  {
   "cell_type": "code",
   "execution_count": 8,
   "id": "87d2ea09",
   "metadata": {},
   "outputs": [
    {
     "name": "stdout",
     "output_type": "stream",
     "text": [
      "sdafsdgrgggrggfwfwggrg\n"
     ]
    }
   ],
   "source": [
    "# Write a code to Remove space from a string\n",
    "\n",
    "def rm_space(st_r):\n",
    "    for i in st_r:\n",
    "        st_r = st_r.translate({ord(' '):None})\n",
    "    return st_r\n",
    "\n",
    "\n",
    "string = 'sdaf  sdgrg ggrg g fwfwg grg'\n",
    "print(rm_space(string))"
   ]
  },
  {
   "cell_type": "code",
   "execution_count": 14,
   "id": "d696d745",
   "metadata": {},
   "outputs": [
    {
     "name": "stdout",
     "output_type": "stream",
     "text": [
      "Hello, Myself nitesh Pal.\n",
      "Hello, I am Nitesh Pal.\n"
     ]
    }
   ],
   "source": [
    "# Write a code to Replace a Substring in a string  \n",
    "\n",
    "def rep_sub__st_r(st_r,  old_st_r, new_st_r):\n",
    "    return st_r.replace(old_st_r, new_st_r)\n",
    "\n",
    "string = 'Hello, I am nitesh Pal.'\n",
    "print(rep_sub__st_r(string,'I am', 'Myself'))\n",
    "print(rep_sub__st_r(string, 'nitesh', 'Nitesh'))"
   ]
  },
  {
   "cell_type": "code",
   "execution_count": null,
   "id": "82270931",
   "metadata": {},
   "outputs": [],
   "source": []
  }
 ],
 "metadata": {
  "kernelspec": {
   "display_name": "Python 3 (ipykernel)",
   "language": "python",
   "name": "python3"
  },
  "language_info": {
   "codemirror_mode": {
    "name": "ipython",
    "version": 3
   },
   "file_extension": ".py",
   "mimetype": "text/x-python",
   "name": "python",
   "nbconvert_exporter": "python",
   "pygments_lexer": "ipython3",
   "version": "3.9.13"
  }
 },
 "nbformat": 4,
 "nbformat_minor": 5
}
