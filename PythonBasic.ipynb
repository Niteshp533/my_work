{
 "cells": [
  {
   "cell_type": "code",
   "execution_count": 1,
   "id": "deb46dee",
   "metadata": {},
   "outputs": [],
   "source": [
    "a=b=c=1\n"
   ]
  },
  {
   "cell_type": "code",
   "execution_count": 2,
   "id": "90cc12b3",
   "metadata": {},
   "outputs": [
    {
     "name": "stdout",
     "output_type": "stream",
     "text": [
      "1\n"
     ]
    }
   ],
   "source": [
    "print(a)"
   ]
  },
  {
   "cell_type": "code",
   "execution_count": 3,
   "id": "29ba7c9d",
   "metadata": {},
   "outputs": [
    {
     "name": "stdout",
     "output_type": "stream",
     "text": [
      "1\n"
     ]
    }
   ],
   "source": [
    "print(b)"
   ]
  },
  {
   "cell_type": "code",
   "execution_count": 4,
   "id": "b06b0d57",
   "metadata": {},
   "outputs": [
    {
     "name": "stdout",
     "output_type": "stream",
     "text": [
      "1\n"
     ]
    }
   ],
   "source": [
    "print(c)"
   ]
  },
  {
   "cell_type": "code",
   "execution_count": 5,
   "id": "5a3c119d",
   "metadata": {},
   "outputs": [],
   "source": [
    "str='python'"
   ]
  },
  {
   "cell_type": "code",
   "execution_count": 6,
   "id": "2edd2568",
   "metadata": {},
   "outputs": [
    {
     "name": "stdout",
     "output_type": "stream",
     "text": [
      "python\n"
     ]
    }
   ],
   "source": [
    "print(str)"
   ]
  },
  {
   "cell_type": "code",
   "execution_count": 7,
   "id": "8ec5556a",
   "metadata": {},
   "outputs": [
    {
     "name": "stdout",
     "output_type": "stream",
     "text": [
      "t\n",
      "yth\n",
      "python\n"
     ]
    }
   ],
   "source": [
    "print(str[2])\n",
    "print(str[1:4])\n",
    "print(str[-8:])"
   ]
  },
  {
   "cell_type": "code",
   "execution_count": 8,
   "id": "79b0e001",
   "metadata": {},
   "outputs": [],
   "source": [
    "str1='123456789'"
   ]
  },
  {
   "cell_type": "code",
   "execution_count": 9,
   "id": "bacb0286",
   "metadata": {},
   "outputs": [
    {
     "name": "stdout",
     "output_type": "stream",
     "text": [
      "13579\n"
     ]
    }
   ],
   "source": [
    "print(str1[::2])"
   ]
  },
  {
   "cell_type": "code",
   "execution_count": 9,
   "id": "95258188",
   "metadata": {},
   "outputs": [
    {
     "name": "stdout",
     "output_type": "stream",
     "text": [
      "Math Hindi English \n"
     ]
    }
   ],
   "source": [
    "str2=\"{} {} {} \".format('Math','Hindi','English')\n",
    "print(str2)"
   ]
  },
  {
   "cell_type": "code",
   "execution_count": 3,
   "id": "a5864081",
   "metadata": {},
   "outputs": [
    {
     "name": "stdout",
     "output_type": "stream",
     "text": [
      "english hindi math \n"
     ]
    }
   ],
   "source": [
    "str2=\"{2} {1} {0} \".format('Math','Hindi','English')\n",
    "print(str2)"
   ]
  },
  {
   "cell_type": "code",
   "execution_count": 10,
   "id": "0023e0d7",
   "metadata": {},
   "outputs": [
    {
     "name": "stdout",
     "output_type": "stream",
     "text": [
      "Math Hindi English \n",
      "Mahesh is a Good boy.\n"
     ]
    }
   ],
   "source": [
    "str2=\"{} {} {} \".format('Math','Hindi','English')\n",
    "print(str2)\n",
    "a='Mahesh'\n",
    "b=\"Good\"\n",
    "print(f\"{a} is a {b} boy.\")"
   ]
  },
  {
   "cell_type": "code",
   "execution_count": 11,
   "id": "6fd35884",
   "metadata": {},
   "outputs": [
    {
     "name": "stdout",
     "output_type": "stream",
     "text": [
      "Math Hindi english \n"
     ]
    }
   ],
   "source": [
    "str2=\"{a} {b} {c} \".format(a='Math',b='Hindi',c='english')\n",
    "print(str2)"
   ]
  },
  {
   "cell_type": "code",
   "execution_count": 12,
   "id": "48614bc4",
   "metadata": {},
   "outputs": [
    {
     "name": "stdout",
     "output_type": "stream",
     "text": [
      "Math Hindi Hindi english Math \n"
     ]
    }
   ],
   "source": [
    "str2=\"{a} {b} {b} {c} {a} \".format(a ='Math',b='Hindi',c='english')\n",
    "print(str2)"
   ]
  },
  {
   "cell_type": "code",
   "execution_count": 14,
   "id": "0afd9e26",
   "metadata": {},
   "outputs": [
    {
     "name": "stdout",
     "output_type": "stream",
     "text": [
      "['123', 'Modi', 'john', '765.3', 'university']\n"
     ]
    }
   ],
   "source": [
    "list1=['123','Modi','john','765.3','university']\n",
    "print(list1)"
   ]
  },
  {
   "cell_type": "code",
   "execution_count": 37,
   "id": "df467d30",
   "metadata": {},
   "outputs": [
    {
     "name": "stdout",
     "output_type": "stream",
     "text": [
      "['1728', 'SAP']\n",
      "['1728', 'Google']\n"
     ]
    }
   ],
   "source": [
    "list2=['1728','SAP']\n",
    "print(list2)\n",
    "list2[1]='Google'\n",
    "print(list2)"
   ]
  },
  {
   "cell_type": "code",
   "execution_count": 38,
   "id": "32e08ae6",
   "metadata": {},
   "outputs": [
    {
     "name": "stdout",
     "output_type": "stream",
     "text": [
      "['123', 'Modi', 'john', '765.3', 'university', '1728', 'Google']\n"
     ]
    }
   ],
   "source": [
    "print(list1+list2)"
   ]
  },
  {
   "cell_type": "code",
   "execution_count": 39,
   "id": "a949ec3c",
   "metadata": {},
   "outputs": [
    {
     "name": "stdout",
     "output_type": "stream",
     "text": [
      "['123', 'Modi', 'john', '765.3', 'university', '123', 'Modi', 'john', '765.3', 'university']\n"
     ]
    }
   ],
   "source": [
    "print(list1*2)"
   ]
  },
  {
   "cell_type": "code",
   "execution_count": 23,
   "id": "8647ff14",
   "metadata": {},
   "outputs": [
    {
     "name": "stdout",
     "output_type": "stream",
     "text": [
      "['123', 'Modi', 'john', '765.3', 'university', 'Parul']\n"
     ]
    }
   ],
   "source": [
    "list1.append(\"Parul\")\n",
    "print(list1)"
   ]
  },
  {
   "cell_type": "code",
   "execution_count": 24,
   "id": "d557b382",
   "metadata": {},
   "outputs": [
    {
     "data": {
      "text/plain": [
       "['123', 'Modi', 'john', '765.3', 'university']"
      ]
     },
     "execution_count": 24,
     "metadata": {},
     "output_type": "execute_result"
    }
   ],
   "source": [
    "list1.remove(\"Parul\")\n",
    "(list1)"
   ]
  },
  {
   "cell_type": "code",
   "execution_count": 27,
   "id": "78d169c9",
   "metadata": {},
   "outputs": [
    {
     "data": {
      "text/plain": [
       "['Ram', 'is', 'good', 'boy.']"
      ]
     },
     "execution_count": 27,
     "metadata": {},
     "output_type": "execute_result"
    }
   ],
   "source": [
    "str4= 'Ram is good boy.'\n",
    "str4.split()"
   ]
  },
  {
   "cell_type": "code",
   "execution_count": 2,
   "id": "dd05d58d",
   "metadata": {},
   "outputs": [
    {
     "name": "stdout",
     "output_type": "stream",
     "text": [
      "Enter your name :My name is Ravi\n",
      "My name is Ravi\n",
      "My name is RaviMy name is Ravi\n",
      "['My', 'name', 'is', 'Ravi']\n"
     ]
    }
   ],
   "source": [
    "str5=str(input(\"Enter your name :\"))\n",
    "print(str5)\n",
    "print(str5*2)\n",
    "print(str5.split())"
   ]
  },
  {
   "cell_type": "code",
   "execution_count": 1,
   "id": "658db9b0",
   "metadata": {},
   "outputs": [
    {
     "name": "stdout",
     "output_type": "stream",
     "text": [
      "Enter any sequence :1234 151\n",
      "['1234', '151']\n",
      "['Python', 'is', 'a', 'programming', 'language.']\n"
     ]
    }
   ],
   "source": [
    "str5=(input(\"Enter any sequence :\"))\n",
    "l=str5.split()\n",
    "print(l)\n",
    "str6=\"Python is a programming language.\"\n",
    "l=str6.split()\n",
    "print(l)"
   ]
  },
  {
   "cell_type": "code",
   "execution_count": 17,
   "id": "d8f6e017",
   "metadata": {},
   "outputs": [
    {
     "name": "stdout",
     "output_type": "stream",
     "text": [
      "['', 'arul is for ', 'ython']\n"
     ]
    }
   ],
   "source": [
    "str7='parul is for python'\n",
    "print(str7.split('p'))"
   ]
  },
  {
   "cell_type": "code",
   "execution_count": 20,
   "id": "9be993ce",
   "metadata": {},
   "outputs": [
    {
     "name": "stdout",
     "output_type": "stream",
     "text": [
      "('123', 'Abhishek', '234.67', 'India')\n"
     ]
    },
    {
     "data": {
      "text/plain": [
       "tuple"
      ]
     },
     "execution_count": 20,
     "metadata": {},
     "output_type": "execute_result"
    }
   ],
   "source": [
    "t =('123','Abhishek', '234.67', 'India')\n",
    "print(t)\n",
    "type(t)"
   ]
  },
  {
   "cell_type": "code",
   "execution_count": 21,
   "id": "c1c660d9",
   "metadata": {},
   "outputs": [
    {
     "ename": "TypeError",
     "evalue": "'tuple' object does not support item assignment",
     "output_type": "error",
     "traceback": [
      "\u001b[1;31m---------------------------------------------------------------------------\u001b[0m",
      "\u001b[1;31mTypeError\u001b[0m                                 Traceback (most recent call last)",
      "Input \u001b[1;32mIn [21]\u001b[0m, in \u001b[0;36m<cell line: 1>\u001b[1;34m()\u001b[0m\n\u001b[1;32m----> 1\u001b[0m t[\u001b[38;5;241m2\u001b[39m]\u001b[38;5;241m=\u001b[39m\u001b[38;5;241m1234\u001b[39m\n\u001b[0;32m      2\u001b[0m li\u001b[38;5;241m=\u001b[39m[\u001b[38;5;124m'\u001b[39m\u001b[38;5;124m123\u001b[39m\u001b[38;5;124m'\u001b[39m,\u001b[38;5;124m'\u001b[39m\u001b[38;5;124mAbhishek\u001b[39m\u001b[38;5;124m'\u001b[39m, \u001b[38;5;124m'\u001b[39m\u001b[38;5;124m234.67\u001b[39m\u001b[38;5;124m'\u001b[39m, \u001b[38;5;124m'\u001b[39m\u001b[38;5;124mIndia\u001b[39m\u001b[38;5;124m'\u001b[39m]\n\u001b[0;32m      3\u001b[0m li[\u001b[38;5;241m1\u001b[39m]\u001b[38;5;241m=\u001b[39m\u001b[38;5;241m1234\u001b[39m\n",
      "\u001b[1;31mTypeError\u001b[0m: 'tuple' object does not support item assignment"
     ]
    }
   ],
   "source": [
    "t[2]=1234\n",
    "li=['123','Abhishek', '234.67', 'India']\n",
    "li[1]=1234\n"
   ]
  },
  {
   "cell_type": "code",
   "execution_count": 23,
   "id": "dd88f342",
   "metadata": {},
   "outputs": [
    {
     "name": "stdout",
     "output_type": "stream",
     "text": [
      "{'name': 'Ravi', 'college': 'Parul unversity', 'enroll.': '1234'}\n",
      "dict_keys(['name', 'college', 'enroll.'])\n",
      "dict_values(['Ravi', 'Parul unversity', '1234'])\n"
     ]
    }
   ],
   "source": [
    "dict1={'name':'Ravi','college':'Parul unversity','enroll.':'1234'}\n",
    "print(dict1)\n",
    "type(dict1)\n",
    "print(dict1.keys())\n",
    "print(dict1.values())"
   ]
  },
  {
   "cell_type": "code",
   "execution_count": 25,
   "id": "2b892546",
   "metadata": {},
   "outputs": [
    {
     "name": "stdout",
     "output_type": "stream",
     "text": [
      "Ravi\n"
     ]
    }
   ],
   "source": [
    "print(dict1['name'])"
   ]
  },
  {
   "cell_type": "code",
   "execution_count": 26,
   "id": "4e4d69b7",
   "metadata": {},
   "outputs": [
    {
     "ename": "KeyError",
     "evalue": "'Ravi'",
     "output_type": "error",
     "traceback": [
      "\u001b[1;31m---------------------------------------------------------------------------\u001b[0m",
      "\u001b[1;31mKeyError\u001b[0m                                  Traceback (most recent call last)",
      "Input \u001b[1;32mIn [26]\u001b[0m, in \u001b[0;36m<cell line: 1>\u001b[1;34m()\u001b[0m\n\u001b[1;32m----> 1\u001b[0m \u001b[38;5;28mprint\u001b[39m(\u001b[43mdict1\u001b[49m\u001b[43m[\u001b[49m\u001b[38;5;124;43m'\u001b[39;49m\u001b[38;5;124;43mRavi\u001b[39;49m\u001b[38;5;124;43m'\u001b[39;49m\u001b[43m]\u001b[49m)\n",
      "\u001b[1;31mKeyError\u001b[0m: 'Ravi'"
     ]
    }
   ],
   "source": [
    "print(dict1['Ravi']) # we can not access key through it's value."
   ]
  },
  {
   "cell_type": "code",
   "execution_count": null,
   "id": "ae82c07e",
   "metadata": {},
   "outputs": [],
   "source": []
  }
 ],
 "metadata": {
  "kernelspec": {
   "display_name": "Python 3 (ipykernel)",
   "language": "python",
   "name": "python3"
  },
  "language_info": {
   "codemirror_mode": {
    "name": "ipython",
    "version": 3
   },
   "file_extension": ".py",
   "mimetype": "text/x-python",
   "name": "python",
   "nbconvert_exporter": "python",
   "pygments_lexer": "ipython3",
   "version": "3.9.13"
  }
 },
 "nbformat": 4,
 "nbformat_minor": 5
}
