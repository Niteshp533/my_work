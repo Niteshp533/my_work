{
 "cells": [
  {
   "cell_type": "markdown",
   "id": "609e8efa",
   "metadata": {},
   "source": [
    "Creating List"
   ]
  },
  {
   "cell_type": "code",
   "execution_count": 63,
   "id": "88060831",
   "metadata": {},
   "outputs": [],
   "source": [
    "import ctypes\n",
    "class mylyst:\n",
    "    def __init__(self):\n",
    "        self.size = 1\n",
    "        self.n = 0\n",
    "        self.A = self.__make_list(self.size)\n",
    "    \n",
    "    def __len__(self):\n",
    "        return self.n\n",
    "    \n",
    "    def append(self,item):\n",
    "        if self.n == self.size:\n",
    "            self.__resize(self.size*2)\n",
    "         \n",
    "        self.A [self.n] = item\n",
    "        self.n = self.n + 1\n",
    "    \n",
    "    def __resize(self,new_capacity):\n",
    "        B = self.__make_list(new_capacity)\n",
    "        self.size = new_capacity\n",
    "        for i in range(self.n):\n",
    "            B[i] = self.A[i]\n",
    "        self.A = B\n",
    "    \n",
    "    def  __str__(self):\n",
    "        result = ''\n",
    "        for i in range(self.n):\n",
    "            result = result + str(self.A[i]) +','\n",
    "        return \"[\"+ result[:-1] +\"]\"\n",
    "    \n",
    "    def __getitem__(self,index):\n",
    "        if index < self.n:\n",
    "            return self.A[index]\n",
    "        else:\n",
    "            return \"IndexError - Index out of range!\"\n",
    "        \n",
    "    def __delitem__(self, index):\n",
    "        if 0<= index <self.n:\n",
    "            for i in range(index, self.n-1):\n",
    "                self.A[i] = self.A[i+1]\n",
    "            self.n = self.n-1\n",
    "        else:\n",
    "            print(\"IndexError: list assignment index out of range!\")\n",
    "    \n",
    "    \n",
    "    def remove(self, item):\n",
    "        if item in self.A:\n",
    "            for i in range(self.n):\n",
    "                if self.A[i] == item:\n",
    "                    self.__delitem__(i)\n",
    "        else:\n",
    "            print(\"ValueError: list.remove(x): x not in list!\")\n",
    "    \n",
    "    def pop(self):\n",
    "        if  0<self.n:\n",
    "            print(self.A[self.n-1])\n",
    "            self.n = self.n-1\n",
    "        elif 0 == self.n:\n",
    "            return []\n",
    "        \n",
    "    def clear(self):\n",
    "        self.n = 0\n",
    "        self.size =1\n",
    "    \n",
    "    def find(self, item):\n",
    "        for i in range(self.n):\n",
    "            if item == self.A[i]:\n",
    "                return i\n",
    "        return \"ValueError : Not found!\"\n",
    "    \n",
    "    def insert(self, index, item):\n",
    "        if self.n == self.size:\n",
    "            self.__resize(self.size*2)\n",
    "            \n",
    "        for i in range(self.n, index, -1):\n",
    "            self.A[i] = self.A[i-1]\n",
    "            \n",
    "        self.A[index] = item\n",
    "        self.n = self.n + 1\n",
    "            \n",
    "    def __make_list(self, capacity):\n",
    "        return (capacity * ctypes.py_object)()\n",
    "            \n",
    "        "
   ]
  },
  {
   "cell_type": "code",
   "execution_count": 64,
   "id": "e009cc7e",
   "metadata": {},
   "outputs": [
    {
     "name": "stdout",
     "output_type": "stream",
     "text": [
      "[1,12.45,Nitesh,123,op,oll,obp]\n"
     ]
    }
   ],
   "source": [
    "l = mylyst()\n",
    "l.append(1)\n",
    "l.append(12.45)\n",
    "l.append(\"Nitesh\")\n",
    "l.append(123)\n",
    "l.append(\"op\")\n",
    "l.append(\"oll\")\n",
    "l.append(\"obp\")\n",
    "\n",
    "print(l)"
   ]
  },
  {
   "cell_type": "code",
   "execution_count": 65,
   "id": "96eb73a8",
   "metadata": {
    "scrolled": true
   },
   "outputs": [],
   "source": [
    "l.insert(2,3)\n"
   ]
  },
  {
   "cell_type": "code",
   "execution_count": 66,
   "id": "bb0bd190",
   "metadata": {},
   "outputs": [
    {
     "name": "stdout",
     "output_type": "stream",
     "text": [
      "[1,12.45,3,Nitesh,123,op,oll,obp]\n"
     ]
    }
   ],
   "source": [
    "print(l)"
   ]
  },
  {
   "cell_type": "code",
   "execution_count": 67,
   "id": "aacda804",
   "metadata": {},
   "outputs": [],
   "source": [
    "l.remove(1)"
   ]
  },
  {
   "cell_type": "code",
   "execution_count": 68,
   "id": "7eb650f9",
   "metadata": {
    "scrolled": false
   },
   "outputs": [
    {
     "name": "stdout",
     "output_type": "stream",
     "text": [
      "[12.45,3,Nitesh,123,op,oll,obp]\n"
     ]
    }
   ],
   "source": [
    "print(l)"
   ]
  },
  {
   "cell_type": "code",
   "execution_count": 69,
   "id": "28be46ce",
   "metadata": {},
   "outputs": [
    {
     "name": "stdout",
     "output_type": "stream",
     "text": [
      "ValueError: list.remove(x): x not in list!\n"
     ]
    }
   ],
   "source": [
    "l.remove(10)"
   ]
  },
  {
   "cell_type": "code",
   "execution_count": 70,
   "id": "3385d37c",
   "metadata": {},
   "outputs": [
    {
     "name": "stdout",
     "output_type": "stream",
     "text": [
      "[12.45,3,123,op,oll,obp]\n"
     ]
    }
   ],
   "source": [
    "l.remove(\"Nitesh\")\n",
    "print(l)"
   ]
  },
  {
   "cell_type": "markdown",
   "id": "15e4761a",
   "metadata": {},
   "source": [
    "Linked-List"
   ]
  },
  {
   "cell_type": "code",
   "execution_count": 19,
   "id": "f1ddd963",
   "metadata": {},
   "outputs": [],
   "source": [
    "class Node:\n",
    "     def __init__(self,value):\n",
    "        self.data = value\n",
    "        self.next = None\n",
    "    \n",
    "class LinkedList:\n",
    "    def __init__(self):\n",
    "        self.head = None\n",
    "        self.n = 0\n",
    "        \n",
    "    def  __len__(self):\n",
    "        return self.n\n",
    "    \n",
    "    def insert_head(self, value):\n",
    "        new_node = Node(value)\n",
    "        new_node.next = self.head\n",
    "        self.head = new_node\n",
    "        self.n = self.n + 1\n",
    "    \n",
    "    def traverse(self):\n",
    "        curr = self.head\n",
    "        while curr != None:\n",
    "            print(curr.data)\n",
    "            curr = curr.next\n",
    "            \n",
    "    def __str__(self):\n",
    "        result = \"\"\n",
    "        curr = self.head\n",
    "        while curr != None:\n",
    "            result = result + str(curr.data) +\" -> \" \n",
    "            curr = curr.next\n",
    "        return result[:-3]\n",
    "    \n",
    "    def append(self,value):\n",
    "        new_node = Node(value)\n",
    "        if self.head == None:\n",
    "            self.head = new_node\n",
    "            self.n = self.n + 1\n",
    "            return\n",
    "        curr = self.head\n",
    "        while curr.next != None:\n",
    "            curr = curr.next\n",
    "        curr.next = new_node\n",
    "        self.n = self.n + 1\n",
    "        \n",
    "    def insert_after(self, after, value):\n",
    "        new_node = Node(value)\n",
    "        curr = self.head\n",
    "        while curr != None:\n",
    "            if curr.data == after:\n",
    "                break\n",
    "            curr = curr.next\n",
    "        if curr != None:\n",
    "            new_node.next = curr.next\n",
    "            curr.next = new_node\n",
    "            self.n = self.n + 1\n",
    "        else:\n",
    "            return \"Item not found!\"\n",
    "        \n",
    "    def clear(self):\n",
    "        self.head = None\n",
    "        self.n = 0\n",
    "        \n",
    "    def del_head(self):\n",
    "        if self.head == None:\n",
    "            return 'Empty Linked List'\n",
    "        self.head = self.head.next\n",
    "        self.n = self.n - 1\n",
    "        \n",
    "    def pop(self):\n",
    "        if self.head == None:\n",
    "            return 'Empty Linked List'\n",
    "        curr = self.head\n",
    "        if curr.next == None:\n",
    "            return self.del_head()\n",
    "        while curr.next.next != None:\n",
    "            curr = curr.next\n",
    "        curr.next = None\n",
    "        self.n = self.n - 1\n",
    "        return curr.next\n",
    "    \n",
    "    def remove(self,value):\n",
    "        if self.head == None:\n",
    "            return 'Empty Linked List'\n",
    "        curr = self.head\n",
    "        if curr.data == value:\n",
    "                return self.del_head()\n",
    "        while curr.next != None:\n",
    "            if curr.next.data == value:\n",
    "                break\n",
    "            curr = curr.next\n",
    "        if curr.next == None:\n",
    "             return 'Item is not found!'\n",
    "        else:\n",
    "            curr.next = curr.next.next\n",
    "            self.n = self.n - 1\n",
    "            \n",
    "    def fin(self,value):\n",
    "        if self.head == None:\n",
    "            return 'Empty Linked List!'\n",
    "        curr = self.head\n",
    "        count = 0\n",
    "        if curr.data == value:\n",
    "                return count\n",
    "        while curr.next != None:          \n",
    "            if curr.next.data == value:\n",
    "                return count\n",
    "            curr = curr.next\n",
    "            count+=1\n",
    "        return 'Item is not found!' \n",
    "    \n",
    "    def del_index(self,pos):\n",
    "        curr = self.head\n",
    "        if curr == None:\n",
    "            return 'Empty LinkedList!'\n",
    "        count = 0\n",
    "        \n",
    "        while curr != None:          \n",
    "            if count == pos:\n",
    "                self.n = self.n - 1\n",
    "                return self.remove(curr.data)\n",
    "            count += 1\n",
    "            curr = curr.next\n",
    "            self.n = self.n -1\n",
    "        return 'IndexError : Index is not found! (Index-limit exceed!)'\n",
    "    \n",
    "    def __getitem__(self, index):\n",
    "        \n",
    "        curr = self.head\n",
    "        count = 0\n",
    "        while curr != None:\n",
    "            if count == index:\n",
    "                return curr.data\n",
    "            curr = curr.next\n",
    "            count = count +1\n",
    "        return 'IndexError : Index is not found!'\n",
    "    "
   ]
  },
  {
   "cell_type": "markdown",
   "id": "3416443c",
   "metadata": {},
   "source": [
    "Stack Imp."
   ]
  },
  {
   "cell_type": "code",
   "execution_count": 52,
   "id": "f20bb3bd",
   "metadata": {},
   "outputs": [],
   "source": [
    "class Node:\n",
    "    def __init__(self, value):\n",
    "        self.data = value\n",
    "        self.next = None\n",
    "class stack :\n",
    "    def __init__(self):\n",
    "        self.top = None\n",
    "        \n",
    "    def isempty(self):\n",
    "        return self.top == None\n",
    "        \n",
    "    def push(self,value):\n",
    "        new_node = Node(value)\n",
    "        new_node.next = self.top\n",
    "        self.top = new_node\n",
    "    \n",
    "    def traverse(self):\n",
    "        curr = self.top\n",
    "        while curr != None:\n",
    "            print(curr.data)\n",
    "            curr = curr.next\n",
    "            \n",
    "    def peek(self):\n",
    "        if self.isempty == True:\n",
    "            return 'Empty Stack!'\n",
    "        else:\n",
    "            return self.top.data\n",
    "    def pop(self):\n",
    "        if self.isempty == True:\n",
    "            return 'Empty Stack!'\n",
    "        temp_val = self.top.data\n",
    "        self.top = self.top.next\n",
    "        return temp_val\n",
    "    \n",
    "    def size(self):\n",
    "        curr = self.top\n",
    "        count = 0\n",
    "        while curr != None:\n",
    "            count = count+1 \n",
    "            curr = curr.next\n",
    "        return count"
   ]
  },
  {
   "cell_type": "code",
   "execution_count": 53,
   "id": "170772ba",
   "metadata": {},
   "outputs": [],
   "source": [
    "s = stack()"
   ]
  },
  {
   "cell_type": "code",
   "execution_count": 54,
   "id": "0ff22ea2",
   "metadata": {},
   "outputs": [
    {
     "data": {
      "text/plain": [
       "True"
      ]
     },
     "execution_count": 54,
     "metadata": {},
     "output_type": "execute_result"
    }
   ],
   "source": [
    "s.isempty()"
   ]
  },
  {
   "cell_type": "code",
   "execution_count": 55,
   "id": "0a6cf810",
   "metadata": {},
   "outputs": [],
   "source": [
    "s.push(7)\n",
    "s.push(64)\n",
    "s.push(\"high\")\n",
    "s.push(True)"
   ]
  },
  {
   "cell_type": "code",
   "execution_count": 56,
   "id": "f244cbab",
   "metadata": {},
   "outputs": [
    {
     "name": "stdout",
     "output_type": "stream",
     "text": [
      "True\n",
      "high\n",
      "64\n",
      "7\n"
     ]
    }
   ],
   "source": [
    "s.traverse()"
   ]
  },
  {
   "cell_type": "code",
   "execution_count": 57,
   "id": "db082c26",
   "metadata": {},
   "outputs": [
    {
     "data": {
      "text/plain": [
       "4"
      ]
     },
     "execution_count": 57,
     "metadata": {},
     "output_type": "execute_result"
    }
   ],
   "source": [
    "s.size()"
   ]
  },
  {
   "cell_type": "code",
   "execution_count": 58,
   "id": "bd21108d",
   "metadata": {},
   "outputs": [
    {
     "data": {
      "text/plain": [
       "True"
      ]
     },
     "execution_count": 58,
     "metadata": {},
     "output_type": "execute_result"
    }
   ],
   "source": [
    "s.peek()"
   ]
  },
  {
   "cell_type": "code",
   "execution_count": 59,
   "id": "7e0946a8",
   "metadata": {},
   "outputs": [
    {
     "data": {
      "text/plain": [
       "True"
      ]
     },
     "execution_count": 59,
     "metadata": {},
     "output_type": "execute_result"
    }
   ],
   "source": [
    "s.pop()"
   ]
  },
  {
   "cell_type": "code",
   "execution_count": 60,
   "id": "e3744f89",
   "metadata": {},
   "outputs": [
    {
     "name": "stdout",
     "output_type": "stream",
     "text": [
      "high\n",
      "64\n",
      "7\n"
     ]
    }
   ],
   "source": [
    "s.traverse()"
   ]
  },
  {
   "cell_type": "code",
   "execution_count": 61,
   "id": "3a6b77b0",
   "metadata": {},
   "outputs": [
    {
     "data": {
      "text/plain": [
       "'high'"
      ]
     },
     "execution_count": 61,
     "metadata": {},
     "output_type": "execute_result"
    }
   ],
   "source": [
    "s.peek()"
   ]
  },
  {
   "cell_type": "code",
   "execution_count": 62,
   "id": "9dd25a05",
   "metadata": {},
   "outputs": [
    {
     "data": {
      "text/plain": [
       "3"
      ]
     },
     "execution_count": 62,
     "metadata": {},
     "output_type": "execute_result"
    }
   ],
   "source": [
    "s.size()"
   ]
  },
  {
   "cell_type": "code",
   "execution_count": 76,
   "id": "21c9b7c1",
   "metadata": {},
   "outputs": [
    {
     "name": "stdout",
     "output_type": "stream",
     "text": [
      "Hel\n"
     ]
    }
   ],
   "source": [
    "stri = ''\n",
    "l = \"Hello\"\n",
    "p ='uuur'\n",
    "s1 = stack()\n",
    "s2 = stack()\n",
    "for i in l:\n",
    "    s1.push(i)\n",
    "for j in p:\n",
    "    if j == 'u':\n",
    "        k = s1.pop()\n",
    "        s2.push(k)\n",
    "    elif j == 'r':\n",
    "        m = s2.pop()\n",
    "        s1.push(m)\n",
    "        \n",
    "while (s1.isempty() == False):\n",
    "    stri = s1.pop() +stri\n",
    "\n",
    "print(stri)"
   ]
  },
  {
   "cell_type": "markdown",
   "id": "f44f12ea",
   "metadata": {},
   "source": [
    "Stack imp. (using List)"
   ]
  },
  {
   "cell_type": "code",
   "execution_count": 157,
   "id": "84fcac6a",
   "metadata": {},
   "outputs": [],
   "source": [
    "class stack:\n",
    "    def __init__(self,size):\n",
    "        self.size = size\n",
    "        self.stack = [None] * self.size    #here we need to private __stack\n",
    "        self.top = -1\n",
    "        \n",
    "        \n",
    "    def push(self,value):\n",
    "        if self.size -1 == self.top:\n",
    "            return 'Stack Overflow!'\n",
    "        self.top += 1 \n",
    "        self.stack[self.top] = value\n",
    "            \n",
    "    def pop(self):\n",
    "        if self.top == -1:\n",
    "            return 'Stack is already Empty!'\n",
    "        else:\n",
    "            data = self.stack[self.top]\n",
    "            self.top -= 1\n",
    "            return data\n",
    "        \n",
    "    def traverse(self):\n",
    "        res = ''\n",
    "        for i in range(self.top + 1):\n",
    "            res = res + str(self.stack[i]) + '-'\n",
    "        return res[-1]\n",
    "            "
   ]
  },
  {
   "cell_type": "code",
   "execution_count": 158,
   "id": "e35eecd9",
   "metadata": {},
   "outputs": [],
   "source": [
    "  s = stack(3)"
   ]
  },
  {
   "cell_type": "code",
   "execution_count": 159,
   "id": "ebbcf3ff",
   "metadata": {},
   "outputs": [
    {
     "data": {
      "text/plain": [
       "[None, None, None]"
      ]
     },
     "execution_count": 159,
     "metadata": {},
     "output_type": "execute_result"
    }
   ],
   "source": [
    "s.stack"
   ]
  },
  {
   "cell_type": "code",
   "execution_count": 160,
   "id": "ff6783ea",
   "metadata": {},
   "outputs": [],
   "source": [
    "s.push(3)"
   ]
  },
  {
   "cell_type": "code",
   "execution_count": 161,
   "id": "69481719",
   "metadata": {},
   "outputs": [],
   "source": [
    "s.push(5)"
   ]
  },
  {
   "cell_type": "code",
   "execution_count": 162,
   "id": "e50536a7",
   "metadata": {},
   "outputs": [
    {
     "data": {
      "text/plain": [
       "[3, 5, None]"
      ]
     },
     "execution_count": 162,
     "metadata": {},
     "output_type": "execute_result"
    }
   ],
   "source": [
    "s.stack"
   ]
  },
  {
   "cell_type": "code",
   "execution_count": 163,
   "id": "e4039103",
   "metadata": {},
   "outputs": [],
   "source": [
    "s.push(True)"
   ]
  },
  {
   "cell_type": "code",
   "execution_count": 164,
   "id": "6ab3d8a2",
   "metadata": {},
   "outputs": [
    {
     "data": {
      "text/plain": [
       "[3, 5, True]"
      ]
     },
     "execution_count": 164,
     "metadata": {},
     "output_type": "execute_result"
    }
   ],
   "source": [
    "s.stack"
   ]
  },
  {
   "cell_type": "code",
   "execution_count": 165,
   "id": "bd61d571",
   "metadata": {},
   "outputs": [
    {
     "data": {
      "text/plain": [
       "True"
      ]
     },
     "execution_count": 165,
     "metadata": {},
     "output_type": "execute_result"
    }
   ],
   "source": [
    "s.pop()"
   ]
  },
  {
   "cell_type": "code",
   "execution_count": 170,
   "id": "57d0e667",
   "metadata": {},
   "outputs": [
    {
     "data": {
      "text/plain": [
       "'3-5-8-'"
      ]
     },
     "execution_count": 170,
     "metadata": {},
     "output_type": "execute_result"
    }
   ],
   "source": [
    "s.traverse()"
   ]
  },
  {
   "cell_type": "code",
   "execution_count": 167,
   "id": "1aa214bd",
   "metadata": {},
   "outputs": [],
   "source": [
    "s.push(8)"
   ]
  },
  {
   "cell_type": "code",
   "execution_count": 168,
   "id": "3fc98b79",
   "metadata": {},
   "outputs": [
    {
     "data": {
      "text/plain": [
       "'Stack Overflow!'"
      ]
     },
     "execution_count": 168,
     "metadata": {},
     "output_type": "execute_result"
    }
   ],
   "source": [
    "s.push(56)"
   ]
  },
  {
   "cell_type": "code",
   "execution_count": 169,
   "id": "1bab69e1",
   "metadata": {},
   "outputs": [
    {
     "data": {
      "text/plain": [
       "'Stack Overflow!'"
      ]
     },
     "execution_count": 169,
     "metadata": {},
     "output_type": "execute_result"
    }
   ],
   "source": [
    "s.push(56)"
   ]
  },
  {
   "cell_type": "markdown",
   "id": "184a56d4",
   "metadata": {},
   "source": [
    "Queue Impl. USing LinkedList"
   ]
  },
  {
   "cell_type": "code",
   "execution_count": 11,
   "id": "78566e57",
   "metadata": {},
   "outputs": [],
   "source": [
    "class Node:\n",
    "    def __init__(self,value):\n",
    "        self.data = value\n",
    "        self.next = None\n",
    "    "
   ]
  },
  {
   "cell_type": "code",
   "execution_count": 85,
   "id": "403de0b8",
   "metadata": {},
   "outputs": [],
   "source": [
    "class Queue:\n",
    "    \n",
    "    def __init__(self):\n",
    "        self.front = None\n",
    "        self.rear = None\n",
    "        \n",
    "    def enqueue(self, value):\n",
    "        new_node = Node(value )\n",
    "        if self.rear == None:\n",
    "            self.front = new_node\n",
    "            self.rear = self.front\n",
    "        else:\n",
    "            self.rear.next = new_node\n",
    "            self.rear = new_node\n",
    "    def dequeue(self):\n",
    "        if self.front == None:\n",
    "                return 'Empty Queue!'\n",
    "        else:\n",
    "            self.front = self.front.next\n",
    "        \n",
    "    def traverse(self):\n",
    "        \n",
    "        curr = self.front\n",
    "        while curr != None:\n",
    "            print(curr.data, end =\" \")\n",
    "            curr= curr.next\n",
    "            \n",
    "    def is_empty(self):\n",
    "        return self.front == None\n",
    "     \n",
    "    def size(self):\n",
    "        curr = self.front\n",
    "        count = 0\n",
    "        while curr != None:\n",
    "            count += 1\n",
    "            curr= curr.next\n",
    "        return count\n",
    "    \n",
    "    def front_ele(self):\n",
    "        if self.front == None:\n",
    "                return 'Empty Queue!'\n",
    "        else:\n",
    "            return self.front.data\n",
    "    \n",
    "    def rear_ele(self):\n",
    "        if self.front == None:\n",
    "                return 'Empty Queue!'\n",
    "        else:\n",
    "            return self.rear.data"
   ]
  },
  {
   "cell_type": "code",
   "execution_count": 86,
   "id": "133c03e6",
   "metadata": {},
   "outputs": [],
   "source": [
    "q = Queue()"
   ]
  },
  {
   "cell_type": "code",
   "execution_count": 87,
   "id": "98056480",
   "metadata": {},
   "outputs": [],
   "source": [
    "q.enqueue(5657)\n",
    "q.enqueue(\"Harish\")\n",
    "q.enqueue(\"Aayushi\")\n",
    "q.enqueue(2333.55)\n"
   ]
  },
  {
   "cell_type": "code",
   "execution_count": 88,
   "id": "bf97d453",
   "metadata": {},
   "outputs": [
    {
     "name": "stdout",
     "output_type": "stream",
     "text": [
      "5657 Harish Aayushi 2333.55 "
     ]
    }
   ],
   "source": [
    "q.traverse()"
   ]
  },
  {
   "cell_type": "code",
   "execution_count": 89,
   "id": "6084707d",
   "metadata": {},
   "outputs": [
    {
     "data": {
      "text/plain": [
       "4"
      ]
     },
     "execution_count": 89,
     "metadata": {},
     "output_type": "execute_result"
    }
   ],
   "source": [
    "q.size()"
   ]
  },
  {
   "cell_type": "code",
   "execution_count": 90,
   "id": "6c7eeed2",
   "metadata": {},
   "outputs": [
    {
     "data": {
      "text/plain": [
       "5657"
      ]
     },
     "execution_count": 90,
     "metadata": {},
     "output_type": "execute_result"
    }
   ],
   "source": [
    "q.front_ele()"
   ]
  },
  {
   "cell_type": "code",
   "execution_count": 91,
   "id": "e665ea3d",
   "metadata": {},
   "outputs": [
    {
     "data": {
      "text/plain": [
       "False"
      ]
     },
     "execution_count": 91,
     "metadata": {},
     "output_type": "execute_result"
    }
   ],
   "source": [
    "q.is_empty()\n"
   ]
  },
  {
   "cell_type": "code",
   "execution_count": 105,
   "id": "aeeef62e",
   "metadata": {},
   "outputs": [],
   "source": [
    "q.dequeue()"
   ]
  },
  {
   "cell_type": "code",
   "execution_count": 101,
   "id": "6b24f5ff",
   "metadata": {},
   "outputs": [
    {
     "name": "stdout",
     "output_type": "stream",
     "text": [
      "2333.55 "
     ]
    }
   ],
   "source": [
    "q.traverse()"
   ]
  },
  {
   "cell_type": "code",
   "execution_count": 106,
   "id": "f45d49c1",
   "metadata": {},
   "outputs": [
    {
     "data": {
      "text/plain": [
       "0"
      ]
     },
     "execution_count": 106,
     "metadata": {},
     "output_type": "execute_result"
    }
   ],
   "source": [
    "q.size()"
   ]
  },
  {
   "cell_type": "code",
   "execution_count": 108,
   "id": "5a3688b5",
   "metadata": {},
   "outputs": [
    {
     "data": {
      "text/plain": [
       "'Empty Queue!'"
      ]
     },
     "execution_count": 108,
     "metadata": {},
     "output_type": "execute_result"
    }
   ],
   "source": [
    "q.rear_ele()"
   ]
  },
  {
   "cell_type": "markdown",
   "id": "a55d0799",
   "metadata": {},
   "source": [
    "----------------Sorting Algorithm--------------"
   ]
  },
  {
   "cell_type": "code",
   "execution_count": 6,
   "id": "573c1b13",
   "metadata": {},
   "outputs": [
    {
     "data": {
      "text/plain": [
       "[-23, -11, 3, 5, 5, 12.34, 24, 56, 67, 85, 93]"
      ]
     },
     "execution_count": 6,
     "metadata": {},
     "output_type": "execute_result"
    }
   ],
   "source": [
    "#Merge_Sort\n",
    "def merge_sort(array):\n",
    "    if len(array)<2:\n",
    "        return array\n",
    "    mid = len(array)//2\n",
    "    left = merge_sort(array[:mid])\n",
    "    right = merge_sort(array[mid:])\n",
    "    return merg_e(left, right)\n",
    "\n",
    "def merg_e(left, right):\n",
    "    result = []\n",
    "    i=j= 0\n",
    "    while i<len(left) or j< len(right):\n",
    "        if left[i]<=right[j]:\n",
    "            result.append(left[i])\n",
    "            i+=1\n",
    "        else:\n",
    "            result.append(right[j])\n",
    "            j+=1\n",
    "        if i == len(left) or j==len(right):\n",
    "            result.extend(left[i:] or right[j:])\n",
    "            break\n",
    "    return result      \n",
    "            \n",
    "ls= [-11,12.34,-23,5,56,3,5,67,93,24,85]\n",
    "merge_sort(ls)"
   ]
  },
  {
   "cell_type": "code",
   "execution_count": 18,
   "id": "10e239dd",
   "metadata": {},
   "outputs": [
    {
     "name": "stdout",
     "output_type": "stream",
     "text": [
      "[8, 1, 4, 2, 5]\n",
      "[1, 8, 4, 2, 5]\n",
      "[1, 4, 8, 2, 5]\n",
      "[1, 2, 4, 8, 5]\n",
      "[1, 2, 4, 5, 8]\n",
      "[1, 2, 4, 5, 8]\n"
     ]
    }
   ],
   "source": [
    "#Bubble_Sort\n",
    "def bubble_Sort(lst):\n",
    "    d =[]\n",
    "    for i in range(len(lst)):\n",
    "        for j in range(len(lst)):\n",
    "            if lst[i] <= lst[j]:\n",
    "                temp = lst[i] \n",
    "                lst[i] = lst[j]\n",
    "                lst[j] = temp\n",
    "        print(lst)\n",
    "    return lst\n",
    "\n",
    "lsyt = [5,1,4,2,8]\n",
    "print(bubble_Sort(lsyt))  "
   ]
  },
  {
   "cell_type": "code",
   "execution_count": 33,
   "id": "56a6cbbc",
   "metadata": {},
   "outputs": [
    {
     "name": "stdout",
     "output_type": "stream",
     "text": [
      "[1, 4, 2, 5, 3]\n",
      "[1, 2, 4, 5, 3]\n",
      "[1, 2, 3, 5, 4]\n",
      "[1, 2, 3, 4, 5]\n",
      "[1, 2, 3, 4, 5]\n",
      "[1, 2, 3, 4, 5]\n"
     ]
    }
   ],
   "source": [
    "#Selection_Sort\n",
    "def selection_Sort(lst):\n",
    "    \n",
    "    for i in range(len(lst)):   #0,1,2,3\n",
    "        min_pos = i\n",
    "        for j in range(i+1,len(lst)):    #1,2,3,4\n",
    "            if lst[min_pos] > lst[j]:\n",
    "                min_pos = j\n",
    "        temp = lst[i]\n",
    "        lst[i] = lst[min_pos]\n",
    "        lst[min_pos] = temp\n",
    "        \n",
    "        #lst[i]= mi_n\n",
    "        print(lst)\n",
    "    return lst\n",
    "\n",
    "\n",
    "l = [3,4,2,5,1]    #len(5)\n",
    "print(selection_Sort(l))"
   ]
  },
  {
   "cell_type": "code",
   "execution_count": 31,
   "id": "ae6974ea",
   "metadata": {},
   "outputs": [
    {
     "name": "stdout",
     "output_type": "stream",
     "text": [
      "[-82, 0, 2, 3, 13, 23, 43]\n"
     ]
    }
   ],
   "source": [
    "#Insertion_Sort\n",
    "def Insert_sort(lst):\n",
    "    for i in range(len(lst)):\n",
    "        for key in range(i+1,len(lst)):\n",
    "            if lst[key] >= lst[i]:\n",
    "                continue\n",
    "            else:\n",
    "                temp = lst[i]\n",
    "                lst[i] = lst[key]\n",
    "                lst[key] = temp\n",
    "                Insert_sort(lst)\n",
    "    return lst\n",
    "\n",
    "l = [0,23,13,2,43,-82,3]\n",
    "print(Insert_sort(l))\n",
    "                \n",
    "        \n",
    "    "
   ]
  },
  {
   "cell_type": "code",
   "execution_count": 36,
   "id": "cfe6c303",
   "metadata": {},
   "outputs": [
    {
     "name": "stdout",
     "output_type": "stream",
     "text": [
      "Sorted Array: \n",
      "[0, 1, 3, 3, 4, 5, 6]\n"
     ]
    }
   ],
   "source": [
    "#Conting Sort\n",
    "def countingSort(arr):\n",
    "    size = len(arr)\n",
    "    output = [0] * size\n",
    "    count = [0] * 10\n",
    " \n",
    "    for m in range(0, size):\n",
    "        count[arr[m]] += 1\n",
    "\n",
    "    for m in range(1, 10):\n",
    "        count[m] += count[m - 1]\n",
    "    m = size - 1\n",
    "    while m >= 0:\n",
    "        output[count[arr[m]] - 1] = arr[m]\n",
    "        count[arr[m]] -= 1\n",
    "        m -= 1\n",
    "\n",
    "    for m in range(0, size):\n",
    "        arr[m] = output[m]\n",
    "\n",
    "data = [0,3,5,6,4,1,3]\n",
    "countingSort(data)\n",
    "print(\"Sorted Array: \")\n",
    "print(data)"
   ]
  },
  {
   "cell_type": "code",
   "execution_count": null,
   "id": "016334d8",
   "metadata": {},
   "outputs": [],
   "source": []
  }
 ],
 "metadata": {
  "kernelspec": {
   "display_name": "Python 3 (ipykernel)",
   "language": "python",
   "name": "python3"
  },
  "language_info": {
   "codemirror_mode": {
    "name": "ipython",
    "version": 3
   },
   "file_extension": ".py",
   "mimetype": "text/x-python",
   "name": "python",
   "nbconvert_exporter": "python",
   "pygments_lexer": "ipython3",
   "version": "3.9.13"
  }
 },
 "nbformat": 4,
 "nbformat_minor": 5
}
