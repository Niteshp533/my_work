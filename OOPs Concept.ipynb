{
 "cells": [
  {
   "cell_type": "code",
   "execution_count": 90,
   "id": "f6006de0",
   "metadata": {},
   "outputs": [],
   "source": [
    "class Atm:\n",
    "    def __init__(self):\n",
    "        self.__balance = 0      # instance variable is a value which is differ for every different object.It is define in constuctor. \n",
    "        self.__pin = 0          #  eg: __balance, __pin\n",
    "        '''\n",
    "        Encapsulation : To use (__) for private. eg: __pin\n",
    "        \n",
    "        Also we can access using _Atm__balance, in python nothing is private.if user type sbi.__balance then in memory python creates \n",
    "        new variable with name __balance which is different from self.__balance. \n",
    "        '''\n",
    "        self.__CreatePIN()\n",
    "        self.___menu()\n",
    "        \n",
    "    def _check_pin(self):\n",
    "        other =int(input(\"Enter Your PIN : \"))\n",
    "        if self.__pin == other:\n",
    "            return True\n",
    "        else:\n",
    "            print\n",
    "            return \"Incorrect PIN.\"\n",
    "        \n",
    "    def __CreatePIN(self):\n",
    "        print('''\n",
    "                1. Open the sealed envelope containing your 4-digit PIN provided by the bank.\n",
    "                2. Insert your debit card into the ATM.\n",
    "                3. Enter your debit card number and ATM PIN.\n",
    "                4. You will then be prompted to create a new ATM PIN.\n",
    "                5. Enter your new ATM PIN.\n",
    "            ''')\n",
    "        self.__pin = int(input(\"Enter your new ATM PIN : \"))\n",
    "              \n",
    "        \n",
    "    \n",
    "    def ___menu(self):\n",
    "        print('''\n",
    "                Welcome To BOB World!\n",
    "\n",
    "                \"1\" for Deposit Amount\n",
    "                \"2\" for Withdrawing Amount\n",
    "                \"3\" for Change/Update PIN\n",
    "                \"4\" for Checking Balance\n",
    "        ''')\n",
    "        self.data = int(input(\"Enter Your Choice : \"))\n",
    "        if self.data == 1:\n",
    "            self._depo_amt()\n",
    "        elif self.data == 2:\n",
    "            self._withdraw()\n",
    "        elif self.data == 3:\n",
    "            self._chng_PIN()\n",
    "        elif self.data == 4:\n",
    "            self._chck_bal()\n",
    "            \n",
    "            \n",
    "    def _depo_amt(self):\n",
    "        print(f'Pls, Enter amount in multiple of 100.')\n",
    "        self.amt = int(input(\"Enter your deposite amount : \"))\n",
    "        if self._check_pin() == True:\n",
    "            self.__balance += self.amt\n",
    "        print(f'Amount Deposit Successfully!')\n",
    "        \n",
    "        \n",
    "    def _withdraw(self):\n",
    "        print(f'Pls, Enter amount in multiple of 100.')\n",
    "        self.amt = int(input(\"Enter your withdrawing amount : \"))\n",
    "        if self._check_pin() == True:\n",
    "            if self.__balance >= self.amt:\n",
    "                self.__balance -= self.amt\n",
    "                print(f'Amount Withdraw Successfully!')\n",
    "            else:\n",
    "                print(\"Insufficent Amount for Deductions !\")\n",
    "    \n",
    "    def _chng_PIN(self):\n",
    "        if self._check_pin() == True:\n",
    "            self.__pin = int(input(\"Enter your New PIN : \"))\n",
    "            print(f'PIN Change Successfully!')\n",
    "        else:\n",
    "            print(f'Incorrect PIN. Pls contact to your branch.')\n",
    "            \n",
    "    \n",
    "    def _chck_bal(self):\n",
    "        if self._check_pin() == True:\n",
    "            print(f'Your Current balance is ${self.__balance}.')\n",
    "        else:\n",
    "            print(\"Wrong PIN!\")\n",
    "        "
   ]
  },
  {
   "cell_type": "code",
   "execution_count": 91,
   "id": "21b128a4",
   "metadata": {},
   "outputs": [
    {
     "name": "stdout",
     "output_type": "stream",
     "text": [
      "\n",
      "                1. Open the sealed envelope containing your 4-digit PIN provided by the bank.\n",
      "                2. Insert your debit card into the ATM.\n",
      "                3. Enter your debit card number and ATM PIN.\n",
      "                4. You will then be prompted to create a new ATM PIN.\n",
      "                5. Enter your new ATM PIN.\n",
      "            \n",
      "Enter your new ATM PIN : 2342\n",
      "\n",
      "                Welcome To BOB World!\n",
      "\n",
      "                \"1\" for Deposit Amount\n",
      "                \"2\" for Withdrawing Amount\n",
      "                \"3\" for Change/Update PIN\n",
      "                \"4\" for Checking Balance\n",
      "        \n",
      "Enter Your Choice : 4\n",
      "Enter Your PIN : 2342\n",
      "Your Current balance is $0.\n"
     ]
    }
   ],
   "source": [
    "sbi = Atm()\n"
   ]
  },
  {
   "cell_type": "code",
   "execution_count": 92,
   "id": "741faf0e",
   "metadata": {},
   "outputs": [
    {
     "name": "stdout",
     "output_type": "stream",
     "text": [
      "Enter Your PIN : 2442\n",
      "Wrong PIN!\n"
     ]
    }
   ],
   "source": [
    "sbi._chck_bal()"
   ]
  },
  {
   "cell_type": "code",
   "execution_count": 93,
   "id": "07c7438c",
   "metadata": {},
   "outputs": [
    {
     "name": "stdout",
     "output_type": "stream",
     "text": [
      "Pls, Enter amount in multiple of 100.\n",
      "Enter your deposite amount : 345\n",
      "Enter Your PIN : 2342\n",
      "Amount Deposit Successfully!\n"
     ]
    }
   ],
   "source": [
    "sbi._depo_amt()"
   ]
  },
  {
   "cell_type": "code",
   "execution_count": 94,
   "id": "3a46338f",
   "metadata": {},
   "outputs": [
    {
     "name": "stdout",
     "output_type": "stream",
     "text": [
      "Pls, Enter amount in multiple of 100.\n",
      "Enter your withdrawing amount : 123\n",
      "Enter Your PIN : 2342\n",
      "Amount Withdraw Successfully!\n"
     ]
    }
   ],
   "source": [
    "sbi._withdraw()"
   ]
  },
  {
   "cell_type": "code",
   "execution_count": 95,
   "id": "aaf90ccc",
   "metadata": {},
   "outputs": [
    {
     "name": "stdout",
     "output_type": "stream",
     "text": [
      "Enter Your PIN : 2342\n",
      "Your Current balance is $222.\n"
     ]
    }
   ],
   "source": [
    "sbi._chck_bal()"
   ]
  },
  {
   "cell_type": "code",
   "execution_count": 96,
   "id": "92804856",
   "metadata": {},
   "outputs": [
    {
     "name": "stdout",
     "output_type": "stream",
     "text": [
      "Enter Your PIN : 2342\n",
      "Enter your New PIN : 1235\n",
      "PIN Change Successfully!\n"
     ]
    }
   ],
   "source": [
    "sbi._chng_PIN()"
   ]
  },
  {
   "cell_type": "code",
   "execution_count": 97,
   "id": "40eaebb4",
   "metadata": {},
   "outputs": [
    {
     "name": "stdout",
     "output_type": "stream",
     "text": [
      "Enter Your PIN : 1235\n",
      "Your Current balance is $222.\n"
     ]
    }
   ],
   "source": [
    "sbi._chck_bal()"
   ]
  },
  {
   "cell_type": "code",
   "execution_count": 98,
   "id": "96145a01",
   "metadata": {},
   "outputs": [],
   "source": [
    "class Fraction:\n",
    "     \n",
    "        def __init__(self,n,d):  # we use constructor to impl. configuration related task, which is not executed manually. eg: DB connection, GPS connection etc.\n",
    "            self.num = n         # within a class we cannot call one method to another method(s) of same class, so that we use \"Self\" as cuurent object.\n",
    "            self.den= d\n",
    "            \n",
    "        def __str__(self):\n",
    "            return f'{self.num}/{self.den}'\n",
    "            \n",
    "        def __add__(self,other):\n",
    "            temp_num = self.num * other.den + self.den * other.num\n",
    "            temp_den = self.den * other.den\n",
    "            return f'{temp_num}/{temp_den}' \n",
    "            \n",
    "        def __sub__(self,other):\n",
    "            temp_num = self.num * other.den - self.den * other.num\n",
    "            temp_den = self.den * other.den\n",
    "            return f'{temp_num}/{temp_den}'\n",
    "            \n",
    "        def __mul__(self,other):\n",
    "            temp_num = self.num * other.num\n",
    "            temp_den = self.den * other.den\n",
    "            return f'{temp_num}/{temp_den}' \n",
    "            \n",
    "        def __truediv__(self,other):\n",
    "            temp_num = self.num * other.den\n",
    "            temp_den = self.den * other.num\n",
    "            return f'{temp_num}/{temp_den}' "
   ]
  },
  {
   "cell_type": "code",
   "execution_count": 99,
   "id": "3d72b590",
   "metadata": {},
   "outputs": [
    {
     "name": "stdout",
     "output_type": "stream",
     "text": [
      "4/6\n"
     ]
    }
   ],
   "source": [
    "g= Fraction(4,6)\n",
    "print(g)"
   ]
  },
  {
   "cell_type": "code",
   "execution_count": 100,
   "id": "3d15ab4b",
   "metadata": {},
   "outputs": [],
   "source": [
    "f= Fraction(7,9)"
   ]
  },
  {
   "cell_type": "code",
   "execution_count": 101,
   "id": "0e1f4b43",
   "metadata": {},
   "outputs": [
    {
     "name": "stdout",
     "output_type": "stream",
     "text": [
      "4/6\n"
     ]
    }
   ],
   "source": [
    "print(g)"
   ]
  },
  {
   "cell_type": "code",
   "execution_count": 102,
   "id": "770635d5",
   "metadata": {},
   "outputs": [
    {
     "name": "stdout",
     "output_type": "stream",
     "text": [
      "7/9\n"
     ]
    }
   ],
   "source": [
    "print(f)"
   ]
  },
  {
   "cell_type": "code",
   "execution_count": 103,
   "id": "e1a6e6c7",
   "metadata": {},
   "outputs": [
    {
     "name": "stdout",
     "output_type": "stream",
     "text": [
      "28/54\n"
     ]
    }
   ],
   "source": [
    "print(g*f)"
   ]
  },
  {
   "cell_type": "code",
   "execution_count": 104,
   "id": "a4c49357",
   "metadata": {},
   "outputs": [
    {
     "name": "stdout",
     "output_type": "stream",
     "text": [
      "78/54\n"
     ]
    }
   ],
   "source": [
    "print(g + f)"
   ]
  },
  {
   "cell_type": "code",
   "execution_count": 89,
   "id": "7438770a",
   "metadata": {},
   "outputs": [
    {
     "name": "stdout",
     "output_type": "stream",
     "text": [
      "78/54\n"
     ]
    }
   ],
   "source": [
    "print(g.__add__(f))"
   ]
  },
  {
   "cell_type": "markdown",
   "id": "22c19497",
   "metadata": {},
   "source": [
    "Pass by references"
   ]
  },
  {
   "cell_type": "code",
   "execution_count": 13,
   "id": "7fc9364f",
   "metadata": {},
   "outputs": [],
   "source": [
    "class Customer:\n",
    "    \n",
    "    def __init__(self,name):\n",
    "        self.name = name\n",
    "\n",
    "def greet(customer):\n",
    "    print(id(customer))\n",
    "    customer.name = \"Vishnu\"\n",
    "    print(customer.name)\n"
   ]
  },
  {
   "cell_type": "code",
   "execution_count": 17,
   "id": "947e3521",
   "metadata": {
    "scrolled": true
   },
   "outputs": [
    {
     "name": "stdout",
     "output_type": "stream",
     "text": [
      "1210594756496\n",
      "Nitesh\n"
     ]
    }
   ],
   "source": [
    "cust = Customer(\"Nitesh\")\n",
    "print(id(cust))\n",
    "print(cust.name)"
   ]
  },
  {
   "cell_type": "code",
   "execution_count": 19,
   "id": "84e04847",
   "metadata": {},
   "outputs": [
    {
     "name": "stdout",
     "output_type": "stream",
     "text": [
      "1210594756496\n",
      "Vishnu\n"
     ]
    }
   ],
   "source": [
    "greet(cust)"
   ]
  },
  {
   "cell_type": "code",
   "execution_count": 20,
   "id": "4029d8e3",
   "metadata": {},
   "outputs": [
    {
     "name": "stdout",
     "output_type": "stream",
     "text": [
      "1210594756496\n",
      "Vishnu\n"
     ]
    }
   ],
   "source": [
    "print(id(cust))\n",
    "print(cust.name)"
   ]
  },
  {
   "cell_type": "markdown",
   "id": "120dd7df",
   "metadata": {},
   "source": [
    "Collectionn in py\n"
   ]
  },
  {
   "cell_type": "code",
   "execution_count": 24,
   "id": "6e84c159",
   "metadata": {},
   "outputs": [],
   "source": [
    "class Customer:\n",
    "    \n",
    "    def __init__(self,name, age):\n",
    "        self.name = name\n",
    "        self.age = age\n",
    "    \n",
    "    def intro(self):\n",
    "        print(f'Welcome {self.name}, nice to meet you!')"
   ]
  },
  {
   "cell_type": "code",
   "execution_count": 27,
   "id": "d5ecdf45",
   "metadata": {},
   "outputs": [
    {
     "name": "stdout",
     "output_type": "stream",
     "text": [
      "Welcome Nitesh, nice to meet you!\n",
      "Welcome Suraj, nice to meet you!\n",
      "Welcome kushal, nice to meet you!\n"
     ]
    }
   ],
   "source": [
    "c1 = Customer(\"Nitesh\", 22)\n",
    "c2 = Customer(\"Suraj\", 24)\n",
    "c3 = Customer(\"kushal\", 72)\n",
    "lis_t = [c1,c2,c3]\n",
    "for i in lis_t:\n",
    "    #print(i)\n",
    "    i.intro()"
   ]
  },
  {
   "cell_type": "markdown",
   "id": "164516ae",
   "metadata": {},
   "source": [
    "Static"
   ]
  },
  {
   "cell_type": "code",
   "execution_count": 35,
   "id": "e5c6027c",
   "metadata": {},
   "outputs": [],
   "source": [
    "class Atm:\n",
    "    \n",
    "    __count = 202367480002\n",
    "    #Static/class var\n",
    "    def __init__(self):\n",
    "        #instance var\n",
    "        self.__balance = 0     \n",
    "        self.__pin = 0     \n",
    "        #self.__CreatePIN()\n",
    "        #self.___menu()\n",
    "        self.usrcod = Atm.count\n",
    "        Atm.__count += 1\n",
    "        \n",
    "    def _check_pin(self):\n",
    "        other =int(input(\"Enter Your PIN : \"))\n",
    "        if self.__pin == other:\n",
    "            return True\n",
    "        else:\n",
    "            print\n",
    "            return \"Incorrect PIN.\"\n",
    "        \n",
    "    def __CreatePIN(self):\n",
    "        print('''\n",
    "                1. Open the sealed envelope containing your 4-digit PIN provided by the bank.\n",
    "                2. Insert your debit card into the ATM.\n",
    "                3. Enter your debit card number and ATM PIN.\n",
    "                4. You will then be prompted to create a new ATM PIN.\n",
    "                5. Enter your new ATM PIN.\n",
    "            ''')\n",
    "        self.__pin = int(input(\"Enter your new ATM PIN : \"))\n",
    "              \n",
    "        \n",
    "    \n",
    "    def ___menu(self):\n",
    "        print('''\n",
    "                Welcome To BOB World!\n",
    "\n",
    "                \"1\" for Deposit Amount\n",
    "                \"2\" for Withdrawing Amount\n",
    "                \"3\" for Change/Update PIN\n",
    "                \"4\" for Checking Balance\n",
    "        ''')\n",
    "        self.data = int(input(\"Enter Your Choice : \"))\n",
    "        if self.data == 1:\n",
    "            self._depo_amt()\n",
    "        elif self.data == 2:\n",
    "            self._withdraw()\n",
    "        elif self.data == 3:\n",
    "            self._chng_PIN()\n",
    "        elif self.data == 4:\n",
    "            self._chck_bal()\n",
    "            \n",
    "            \n",
    "    def _depo_amt(self):\n",
    "        print(f'Pls, Enter amount in multiple of 100.')\n",
    "        self.amt = int(input(\"Enter your deposite amount : \"))\n",
    "        if self._check_pin() == True:\n",
    "            self.__balance += self.amt\n",
    "        print(f'Amount Deposit Successfully!')\n",
    "        \n",
    "        \n",
    "    def _withdraw(self):\n",
    "        print(f'Pls, Enter amount in multiple of 100.')\n",
    "        self.amt = int(input(\"Enter your withdrawing amount : \"))\n",
    "        if self._check_pin() == True:\n",
    "            if self.__balance >= self.amt:\n",
    "                self.__balance -= self.amt\n",
    "                print(f'Amount Withdraw Successfully!')\n",
    "            else:\n",
    "                print(\"Insufficent Amount for Deductions !\")\n",
    "    \n",
    "    def _chng_PIN(self):\n",
    "        if self._check_pin() == True:\n",
    "            self.__pin = int(input(\"Enter your New PIN : \"))\n",
    "            print(f'PIN Change Successfully!')\n",
    "        else:\n",
    "            print(f'Incorrect PIN. Pls contact to your branch.')\n",
    "            \n",
    "    \n",
    "    def _chck_bal(self):\n",
    "        if self._check_pin() == True:\n",
    "            print(f'Your Current balance is ${self.__balance}.')\n",
    "        else:\n",
    "            print(\"Wrong PIN!\")\n",
    "            \n",
    "        "
   ]
  },
  {
   "cell_type": "code",
   "execution_count": 37,
   "id": "12cd69b1",
   "metadata": {},
   "outputs": [
    {
     "name": "stdout",
     "output_type": "stream",
     "text": [
      "Your account number is 202367480005\n",
      "Your account number is 202367480006\n",
      "Your account number is 202367480007\n"
     ]
    }
   ],
   "source": [
    "c1 = Atm()\n",
    "print(\"Your account number is\",c1.usrcod)\n",
    "c2 = Atm()\n",
    "print(\"Your account number is\",c2.usrcod)\n",
    "c3 = Atm()\n",
    "print(\"Your account number is\",c3.usrcod)"
   ]
  },
  {
   "cell_type": "code",
   "execution_count": 38,
   "id": "601e1602",
   "metadata": {},
   "outputs": [
    {
     "data": {
      "text/plain": [
       "202367480008"
      ]
     },
     "execution_count": 38,
     "metadata": {},
     "output_type": "execute_result"
    }
   ],
   "source": [
    "Atm.count"
   ]
  },
  {
   "cell_type": "code",
   "execution_count": 40,
   "id": "c4efb8a4",
   "metadata": {},
   "outputs": [],
   "source": [
    "Atm.count = \"asdf\"   #lets amke an error"
   ]
  },
  {
   "cell_type": "code",
   "execution_count": 41,
   "id": "7aa1d4a4",
   "metadata": {},
   "outputs": [
    {
     "ename": "TypeError",
     "evalue": "can only concatenate str (not \"int\") to str",
     "output_type": "error",
     "traceback": [
      "\u001b[1;31m---------------------------------------------------------------------------\u001b[0m",
      "\u001b[1;31mTypeError\u001b[0m                                 Traceback (most recent call last)",
      "\u001b[1;32m~\\AppData\\Local\\Temp\\ipykernel_1936\\3363173498.py\u001b[0m in \u001b[0;36m<module>\u001b[1;34m\u001b[0m\n\u001b[1;32m----> 1\u001b[1;33m \u001b[0mc4\u001b[0m \u001b[1;33m=\u001b[0m \u001b[0mAtm\u001b[0m\u001b[1;33m(\u001b[0m\u001b[1;33m)\u001b[0m\u001b[1;33m\u001b[0m\u001b[1;33m\u001b[0m\u001b[0m\n\u001b[0m",
      "\u001b[1;32m~\\AppData\\Local\\Temp\\ipykernel_1936\\3821716794.py\u001b[0m in \u001b[0;36m__init__\u001b[1;34m(self)\u001b[0m\n\u001b[0;32m     10\u001b[0m         \u001b[1;31m#self.___menu()\u001b[0m\u001b[1;33m\u001b[0m\u001b[1;33m\u001b[0m\u001b[0m\n\u001b[0;32m     11\u001b[0m         \u001b[0mself\u001b[0m\u001b[1;33m.\u001b[0m\u001b[0musrcod\u001b[0m \u001b[1;33m=\u001b[0m \u001b[0mAtm\u001b[0m\u001b[1;33m.\u001b[0m\u001b[0mcount\u001b[0m\u001b[1;33m\u001b[0m\u001b[1;33m\u001b[0m\u001b[0m\n\u001b[1;32m---> 12\u001b[1;33m         \u001b[0mAtm\u001b[0m\u001b[1;33m.\u001b[0m\u001b[0mcount\u001b[0m \u001b[1;33m+=\u001b[0m \u001b[1;36m1\u001b[0m\u001b[1;33m\u001b[0m\u001b[1;33m\u001b[0m\u001b[0m\n\u001b[0m\u001b[0;32m     13\u001b[0m \u001b[1;33m\u001b[0m\u001b[0m\n\u001b[0;32m     14\u001b[0m     \u001b[1;32mdef\u001b[0m \u001b[0m_check_pin\u001b[0m\u001b[1;33m(\u001b[0m\u001b[0mself\u001b[0m\u001b[1;33m)\u001b[0m\u001b[1;33m:\u001b[0m\u001b[1;33m\u001b[0m\u001b[1;33m\u001b[0m\u001b[0m\n",
      "\u001b[1;31mTypeError\u001b[0m: can only concatenate str (not \"int\") to str"
     ]
    }
   ],
   "source": [
    "c4 = Atm()"
   ]
  },
  {
   "cell_type": "code",
   "execution_count": 42,
   "id": "82ef2212",
   "metadata": {},
   "outputs": [],
   "source": [
    "class Atm:\n",
    "    \n",
    "    __count = 202367480002\n",
    "    #Static/class var\n",
    "    def __init__(self):\n",
    "        #instance var\n",
    "        self.__balance = 0     \n",
    "        self.__pin = 0     \n",
    "        #self.__CreatePIN()\n",
    "        #self.___menu()\n",
    "        self.usrcod = Atm.count\n",
    "        Atm.__count += 1\n",
    "        \n",
    "    def get_count(self):\n",
    "        return Atm.__count\n",
    "    \n",
    "    def set_count(self,new):\n",
    "        if type(new) == int:\n",
    "            Atm.count = new\n",
    "        else:\n",
    "            print(\"Can't assign as count(er)\")"
   ]
  },
  {
   "cell_type": "code",
   "execution_count": 43,
   "id": "5fbdf6f5",
   "metadata": {},
   "outputs": [
    {
     "ename": "TypeError",
     "evalue": "get_count() missing 1 required positional argument: 'self'",
     "output_type": "error",
     "traceback": [
      "\u001b[1;31m---------------------------------------------------------------------------\u001b[0m",
      "\u001b[1;31mTypeError\u001b[0m                                 Traceback (most recent call last)",
      "\u001b[1;32m~\\AppData\\Local\\Temp\\ipykernel_1936\\1525404996.py\u001b[0m in \u001b[0;36m<module>\u001b[1;34m\u001b[0m\n\u001b[1;32m----> 1\u001b[1;33m \u001b[0mAtm\u001b[0m\u001b[1;33m.\u001b[0m\u001b[0mget_count\u001b[0m\u001b[1;33m(\u001b[0m\u001b[1;33m)\u001b[0m\u001b[1;33m\u001b[0m\u001b[1;33m\u001b[0m\u001b[0m\n\u001b[0m",
      "\u001b[1;31mTypeError\u001b[0m: get_count() missing 1 required positional argument: 'self'"
     ]
    }
   ],
   "source": [
    "Atm.get_count()"
   ]
  },
  {
   "cell_type": "code",
   "execution_count": 48,
   "id": "c4c60cc9",
   "metadata": {},
   "outputs": [],
   "source": [
    "class Atm:\n",
    "    \n",
    "    __count = 202367480002\n",
    "    #Static/class var\n",
    "    def __init__(self):\n",
    "        #instance var\n",
    "        self.__balance = 0     \n",
    "        self.__pin = 0     \n",
    "        #self.__CreatePIN()\n",
    "        #self.___menu()\n",
    "        self.usrcod = Atm.count\n",
    "        Atm.__count += 1\n",
    "        \n",
    "    @staticmethod\n",
    "    def get_count():   #static Method\n",
    "        return Atm.__count\n",
    "    \n",
    "    def set_count(new):   #static Method\n",
    "        if type(new) == int:\n",
    "            Atm.__count = new\n",
    "        else:\n",
    "            print(\"Can't assign as count(er)\")\n",
    "        print(\"Set Counter Operation is completed successfully\")"
   ]
  },
  {
   "cell_type": "code",
   "execution_count": 49,
   "id": "0b7dd5d5",
   "metadata": {},
   "outputs": [
    {
     "data": {
      "text/plain": [
       "202367480002"
      ]
     },
     "execution_count": 49,
     "metadata": {},
     "output_type": "execute_result"
    }
   ],
   "source": [
    "Atm.get_count()"
   ]
  },
  {
   "cell_type": "code",
   "execution_count": 50,
   "id": "5d99a4c8",
   "metadata": {},
   "outputs": [
    {
     "name": "stdout",
     "output_type": "stream",
     "text": [
      "Set Counter Operation is completed successfully\n"
     ]
    }
   ],
   "source": [
    "Atm.set_count(2023490001)"
   ]
  },
  {
   "cell_type": "code",
   "execution_count": 51,
   "id": "cd24b912",
   "metadata": {},
   "outputs": [
    {
     "data": {
      "text/plain": [
       "2023490001"
      ]
     },
     "execution_count": 51,
     "metadata": {},
     "output_type": "execute_result"
    }
   ],
   "source": [
    "Atm.get_count()"
   ]
  },
  {
   "cell_type": "code",
   "execution_count": null,
   "id": "cf0e82d5",
   "metadata": {},
   "outputs": [],
   "source": []
  }
 ],
 "metadata": {
  "kernelspec": {
   "display_name": "Python 3 (ipykernel)",
   "language": "python",
   "name": "python3"
  },
  "language_info": {
   "codemirror_mode": {
    "name": "ipython",
    "version": 3
   },
   "file_extension": ".py",
   "mimetype": "text/x-python",
   "name": "python",
   "nbconvert_exporter": "python",
   "pygments_lexer": "ipython3",
   "version": "3.9.13"
  }
 },
 "nbformat": 4,
 "nbformat_minor": 5
}
